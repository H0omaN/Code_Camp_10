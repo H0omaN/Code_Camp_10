{
 "cells": [
  {
   "cell_type": "markdown",
   "metadata": {
    "slideshow": {
     "slide_type": "slide"
    }
   },
   "source": [
    "<div class=\"alert alert-success\">\n",
    "    <h1 align=\"center\">Week #8:</h1> \n",
    "        \n",
    "   <h2 align=\"center\">Code Camp #10 - Spatial Analysis</h2>\n",
    "</div>"
   ]
  },
  {
   "cell_type": "markdown",
   "metadata": {
    "slideshow": {
     "slide_type": "fragment"
    }
   },
   "source": [
    "### Table of Content\n",
    "* [What is Spatial analysis?](#first-bullet)\n",
    "\n",
    "* [Packages:](#second-bullet)\n",
    "\n",
    "   -    [Package 1:  Geopandas](#third-bullet)\n",
    "       \n",
    "      - Reading and Writing files\n",
    "      - Ploting spatial data with Geopnadas\n",
    "      - Projections\n",
    "      - Adding base map with contextily and mplleaflet \n",
    "      - Attributes of geodataframe\n",
    "      - Basic functionalities with a geodataframe  \n",
    "      \n",
    "   -    [Package 2:  Pysal](#forth-bullet)    \n",
    "                \n",
    "       - Overview of Pysal \n",
    "      - Choropleth classification with pysal and geopandas"
   ]
  },
  {
   "cell_type": "markdown",
   "metadata": {
    "slideshow": {
     "slide_type": "slide"
    }
   },
   "source": [
    "<div class=\"alert alert-info\">\n",
    "    <h3 align=\"center\">(a) Introduction to Spatial analysis</h3>\n",
    "</div>"
   ]
  },
  {
   "cell_type": "markdown",
   "metadata": {
    "slideshow": {
     "slide_type": "subslide"
    }
   },
   "source": [
    "### What is Spatial analysis?\n",
    "\n",
    "A type of geographical analysis with the aim of evaluating the patterns of human behavior, its spatial expression, and its relationship with the physical entities of the real-world.\n",
    "\n"
   ]
  },
  {
   "cell_type": "markdown",
   "metadata": {
    "slideshow": {
     "slide_type": "fragment"
    }
   },
   "source": [
    "**Tobler's Law:**\n",
    "Everything is related to everything else, but near things are more related than distant things'' (Tobler 1970).\n",
    "<img src='images/13.png' width='70%'/>"
   ]
  },
  {
   "cell_type": "markdown",
   "metadata": {
    "slideshow": {
     "slide_type": "subslide"
    }
   },
   "source": [
    "### <font size=\"3\"> Examples???? </font>\n",
    "\n",
    "<img src='images/6.png' width='70%'/>"
   ]
  },
  {
   "cell_type": "markdown",
   "metadata": {
    "slideshow": {
     "slide_type": "subslide"
    }
   },
   "source": [
    "<img src='images/16.png' width='70%'/>"
   ]
  },
  {
   "cell_type": "markdown",
   "metadata": {
    "slideshow": {
     "slide_type": "slide"
    }
   },
   "source": [
    "<img src='images/7.png' width='90%'/>"
   ]
  },
  {
   "cell_type": "markdown",
   "metadata": {
    "slideshow": {
     "slide_type": "slide"
    }
   },
   "source": [
    "* [Steps for Spatial analysis?](#second-bullet)\n",
    "\n",
    "\n",
    "  - **1. Reading and visualising Spatial Data**\n",
    "  - 2. Pre-processing data\n",
    "  - 3. Running analysis\n",
    "  - 4. Interpretation and saving the results"
   ]
  },
  {
   "cell_type": "markdown",
   "metadata": {
    "slideshow": {
     "slide_type": "subslide"
    }
   },
   "source": [
    "<img src='images/4.png' width='90%'/>"
   ]
  },
  {
   "cell_type": "markdown",
   "metadata": {
    "slideshow": {
     "slide_type": "slide"
    }
   },
   "source": [
    "**Types of Spatial data**\n",
    "\n",
    "Vector: Vectors are points, lines and polygons\n",
    "format: Shapefiles, GeoJSONS, ...\n",
    "\n",
    "\n",
    "Raster: grid of pixels\n",
    "format: TIFF, JPEG, ...\n",
    "\n",
    "<img src='images/12.png' width='60%'/>"
   ]
  },
  {
   "cell_type": "code",
   "execution_count": null,
   "metadata": {
    "slideshow": {
     "slide_type": "subslide"
    }
   },
   "outputs": [
    {
     "name": "stdout",
     "output_type": "stream",
     "text": [
      "^C\n",
      "Collecting matplotlib==3.3.2\n",
      "  Downloading matplotlib-3.3.2-cp38-cp38-win_amd64.whl (8.5 MB)\n",
      "Collecting certifi>=2020.06.20\n",
      "  Downloading certifi-2020.12.5-py2.py3-none-any.whl (147 kB)\n",
      "Collecting pyparsing!=2.0.4,!=2.1.2,!=2.1.6,>=2.0.3\n",
      "  Downloading pyparsing-2.4.7-py2.py3-none-any.whl (67 kB)\n",
      "Collecting numpy>=1.15\n",
      "  Downloading numpy-1.20.2-cp38-cp38-win_amd64.whl (13.7 MB)\n",
      "Collecting kiwisolver>=1.0.1\n",
      "  Downloading kiwisolver-1.3.1-cp38-cp38-win_amd64.whl (51 kB)\n",
      "Collecting pillow>=6.2.0\n",
      "  Downloading Pillow-8.2.0-cp38-cp38-win_amd64.whl (2.2 MB)\n",
      "Collecting cycler>=0.10\n",
      "  Downloading cycler-0.10.0-py2.py3-none-any.whl (6.5 kB)\n",
      "Collecting python-dateutil>=2.1\n",
      "  Using cached python_dateutil-2.8.1-py2.py3-none-any.whl (227 kB)\n",
      "Collecting six\n",
      "  Using cached six-1.15.0-py2.py3-none-any.whl (10 kB)\n",
      "Installing collected packages: certifi, pyparsing, numpy, kiwisolver, pillow, six, cycler, python-dateutil, matplotlib\n"
     ]
    },
    {
     "name": "stderr",
     "output_type": "stream",
     "text": [
      "  WARNING: Failed to write executable - trying to use .deleteme logic\n",
      "ERROR: Could not install packages due to an EnvironmentError: [WinError 2] The system cannot find the file specified: 'C:\\\\Users\\\\Ayat\\\\AppData\\\\Roaming\\\\Python\\\\Python38\\\\Scripts\\\\f2py.exe' -> 'C:\\\\Users\\\\Ayat\\\\AppData\\\\Roaming\\\\Python\\\\Python38\\\\Scripts\\\\f2py.exe.deleteme'\n",
      "\n"
     ]
    },
    {
     "name": "stdout",
     "output_type": "stream",
     "text": [
      "Collecting pandas==1.2.3\n",
      "  Downloading pandas-1.2.3-cp38-cp38-win_amd64.whl (9.3 MB)\n",
      "Collecting numpy>=1.16.5\n",
      "  Using cached numpy-1.20.2-cp38-cp38-win_amd64.whl (13.7 MB)\n",
      "Collecting pytz>=2017.3\n",
      "  Downloading pytz-2021.1-py2.py3-none-any.whl (510 kB)\n",
      "Collecting python-dateutil>=2.7.3\n",
      "  Downloading python_dateutil-2.8.1-py2.py3-none-any.whl (227 kB)\n",
      "Collecting six>=1.5\n",
      "  Downloading six-1.15.0-py2.py3-none-any.whl (10 kB)\n",
      "Installing collected packages: numpy, pytz, six, python-dateutil, pandas\n",
      "Successfully installed numpy-1.20.2 pandas-1.2.3 python-dateutil-2.8.1 pytz-2021.1 six-1.15.0\n"
     ]
    },
    {
     "name": "stderr",
     "output_type": "stream",
     "text": [
      "  WARNING: The script f2py.exe is installed in 'C:\\Users\\Ayat\\AppData\\Roaming\\Python\\Python38\\Scripts' which is not on PATH.\n",
      "  Consider adding this directory to PATH or, if you prefer to suppress this warning, use --no-warn-script-location.\n"
     ]
    },
    {
     "name": "stdout",
     "output_type": "stream",
     "text": [
      "Collecting geopandas==0.9.0"
     ]
    },
    {
     "name": "stderr",
     "output_type": "stream",
     "text": [
      "    ERROR: Command errored out with exit status 1:\n",
      "     command: 'C:\\Users\\Ayat\\anaconda3\\python.exe' -c 'import sys, setuptools, tokenize; sys.argv[0] = '\"'\"'C:\\\\Users\\\\Ayat\\\\AppData\\\\Local\\\\Temp\\\\pip-install-84h8oo__\\\\fiona\\\\setup.py'\"'\"'; __file__='\"'\"'C:\\\\Users\\\\Ayat\\\\AppData\\\\Local\\\\Temp\\\\pip-install-84h8oo__\\\\fiona\\\\setup.py'\"'\"';f=getattr(tokenize, '\"'\"'open'\"'\"', open)(__file__);code=f.read().replace('\"'\"'\\r\\n'\"'\"', '\"'\"'\\n'\"'\"');f.close();exec(compile(code, __file__, '\"'\"'exec'\"'\"'))' egg_info --egg-base 'C:\\Users\\Ayat\\AppData\\Local\\Temp\\pip-pip-egg-info-pxa7j7t6'\n",
      "         cwd: C:\\Users\\Ayat\\AppData\\Local\\Temp\\pip-install-84h8oo__\\fiona\\\n",
      "    Complete output (1 lines):\n",
      "    A GDAL API version must be specified. Provide a path to gdal-config using a GDAL_CONFIG environment variable or use a GDAL_VERSION environment variable.\n",
      "    ----------------------------------------\n",
      "ERROR: Command errored out with exit status 1: python setup.py egg_info Check the logs for full command output.\n"
     ]
    },
    {
     "name": "stdout",
     "output_type": "stream",
     "text": [
      "\n",
      "  Downloading geopandas-0.9.0-py2.py3-none-any.whl (994 kB)\n",
      "Collecting shapely>=1.6\n",
      "  Downloading Shapely-1.7.1-cp38-cp38-win_amd64.whl (1.0 MB)\n",
      "Collecting pandas>=0.24.0\n",
      "  Using cached pandas-1.2.3-cp38-cp38-win_amd64.whl (9.3 MB)\n",
      "Collecting pyproj>=2.2.0\n",
      "  Downloading pyproj-3.0.1-cp38-cp38-win_amd64.whl (14.5 MB)\n",
      "Collecting fiona>=1.8\n",
      "  Downloading Fiona-1.8.19.tar.gz (1.3 MB)\n",
      "Collecting contextily==1.1.0\n",
      "  Downloading contextily-1.1.0-py3-none-any.whl (24 kB)\n",
      "Collecting requests\n",
      "  Downloading requests-2.25.1-py2.py3-none-any.whl (61 kB)\n",
      "Collecting rasterio\n",
      "  Downloading rasterio-1.2.2.tar.gz (2.2 MB)\n",
      "  Installing build dependencies: started\n",
      "  Installing build dependencies: finished with status 'done'\n",
      "  Getting requirements to build wheel: started\n",
      "  Getting requirements to build wheel: finished with status 'error'\n"
     ]
    },
    {
     "name": "stderr",
     "output_type": "stream",
     "text": [
      "  ERROR: Command errored out with exit status 1:\n",
      "   command: 'C:\\Users\\Ayat\\anaconda3\\python.exe' 'C:\\Users\\Ayat\\anaconda3\\lib\\site-packages\\pip\\_vendor\\pep517\\_in_process.py' get_requires_for_build_wheel 'C:\\Users\\Ayat\\AppData\\Local\\Temp\\tmphgmvsex1'\n",
      "       cwd: C:\\Users\\Ayat\\AppData\\Local\\Temp\\pip-install-y8ql73bi\\rasterio\n",
      "  Complete output (2 lines):\n",
      "  INFO:root:Building on Windows requires extra options to setup.py to locate needed GDAL files. More information is available in the README.\n",
      "  ERROR: A GDAL API version must be specified. Provide a path to gdal-config using a GDAL_CONFIG environment variable or use a GDAL_VERSION environment variable.\n",
      "  ----------------------------------------\n",
      "ERROR: Command errored out with exit status 1: 'C:\\Users\\Ayat\\anaconda3\\python.exe' 'C:\\Users\\Ayat\\anaconda3\\lib\\site-packages\\pip\\_vendor\\pep517\\_in_process.py' get_requires_for_build_wheel 'C:\\Users\\Ayat\\AppData\\Local\\Temp\\tmphgmvsex1' Check the logs for full command output.\n"
     ]
    }
   ],
   "source": [
    "\n",
    "#### installing compatibale versions\n",
    "!pip install --force-reinstall matplotlib==3.3.2 --user\n",
    "!pip install --force-reinstall pandas==1.2.3 --user\n",
    "!pip install --force-reinstall geopandas==0.9.0 --user\n",
    "!pip install --force-reinstall contextily==1.1.0 --user\n",
    "!pip install --force-reinstall pysal==2.4.0 --user\n",
    "!pip install mplleaflet \n",
    "\n",
    "\n",
    "#### check to see if there is any incompatibility\n",
    "import matplotlib\n",
    "import pysal\n",
    "import mplleaflet\n",
    "import geopandas\n",
    "import pandas\n",
    "import contextily\n",
    "import libpysal as ps\n"
   ]
  },
  {
   "cell_type": "code",
   "execution_count": 2,
   "metadata": {
    "slideshow": {
     "slide_type": "fragment"
    }
   },
   "outputs": [],
   "source": [
    "import warnings\n",
    "warnings.filterwarnings('ignore')"
   ]
  },
  {
   "cell_type": "markdown",
   "metadata": {
    "slideshow": {
     "slide_type": "slide"
    }
   },
   "source": [
    "<div class=\"alert alert-info\">\n",
    "    <h3 align=\"center\">(b) Geopandas</h3>\n",
    "</div>"
   ]
  },
  {
   "cell_type": "markdown",
   "metadata": {
    "slideshow": {
     "slide_type": "fragment"
    }
   },
   "source": [
    "<div class=\"alert-info\">   \n",
    "    \n",
    "- GeoPandas, as the name suggests, extends popular data science library pandas by adding support for geospatial data. \n",
    "\n",
    "- The core data structure in GeoPandas is geopandas.GeoDataFrame, a subclass of pandas.DataFrame able to store geometry columns and perform spatial operations. \n",
    "</div>"
   ]
  },
  {
   "cell_type": "markdown",
   "metadata": {
    "slideshow": {
     "slide_type": "fragment"
    }
   },
   "source": [
    "<img src='images/9.png' width='20%'/>\n",
    "\n",
    "#### GeoSeries\n",
    "\n",
    "A GeoSeries is essentially a vector where each entry in the vector is a set of shapes corresponding to one observation. An entry may consist of only one shape (like a single polygon) or multiple shapes that are meant to be thought of as one observation (like the many polygons that make up the State of Hawaii or a country like Indonesia).\n",
    "\n",
    "geopandas has three basic classes of geometric objects (which are actually shapely objects):\n",
    "\n",
    " -  Points / Multi-Points\n",
    "\n",
    " -  Lines / Multi-Lines\n",
    "\n",
    " -  Polygons / Multi-Polygons\n",
    "\n",
    "Note that all entries in a GeoSeries need not be of the same geometric type, although certain export operations will fail if this is not the case.\n"
   ]
  },
  {
   "cell_type": "markdown",
   "metadata": {
    "slideshow": {
     "slide_type": "slide"
    }
   },
   "source": [
    "<div class=\"alert alert-success\">\n",
    "    <h3 align=\"center\">(b.1) Reading and Writing files with geopandas</h3>\n",
    "</div>"
   ]
  },
  {
   "cell_type": "markdown",
   "metadata": {
    "slideshow": {
     "slide_type": "fragment"
    }
   },
   "source": [
    "**Reading files**\n",
    "\n",
    "Assuming we have a file containing both data and geometry (e.g. GeoPackage, GeoJSON, Shapefile), we can easily read it using geopandas.read_file function, which automatically detects filetype and creates a GeoDataFrame. In this example, we’ll use the \"nybb\" dataset, a map of New York boroughs which is part of GeoPandas installation. Therefore we need to get the path to the actual file. With your file, you specify a path as a string (\"my_data/my_file.geojson\")."
   ]
  },
  {
   "cell_type": "code",
   "execution_count": 3,
   "metadata": {
    "slideshow": {
     "slide_type": "subslide"
    }
   },
   "outputs": [
    {
     "ename": "SyntaxError",
     "evalue": "invalid syntax (<ipython-input-3-7fea9b8bc80f>, line 5)",
     "output_type": "error",
     "traceback": [
      "\u001b[1;36m  File \u001b[1;32m\"<ipython-input-3-7fea9b8bc80f>\"\u001b[1;36m, line \u001b[1;32m5\u001b[0m\n\u001b[1;33m    path_to_data = ????\u001b[0m\n\u001b[1;37m                   ^\u001b[0m\n\u001b[1;31mSyntaxError\u001b[0m\u001b[1;31m:\u001b[0m invalid syntax\n"
     ]
    }
   ],
   "source": [
    "import geopandas\n",
    "import pandas\n",
    "\n",
    "path_to_data = geopandas.datasets.get_path(\"nybb\")\n",
    "path_to_data = ????\n",
    "gdf = geopandas.read_file(path_to_data)\n",
    "\n",
    "#pandas.read_file()\n",
    "#pandas.r\n",
    "\n",
    "gdf.head()"
   ]
  },
  {
   "cell_type": "markdown",
   "metadata": {
    "slideshow": {
     "slide_type": "slide"
    }
   },
   "source": [
    "**Write files**"
   ]
  },
  {
   "cell_type": "code",
   "execution_count": null,
   "metadata": {
    "slideshow": {
     "slide_type": "fragment"
    }
   },
   "outputs": [],
   "source": [
    "gdf.to_file(\"nybb.geojson\", driver=\"GeoJSON\") ### what does driver represent here???"
   ]
  },
  {
   "cell_type": "code",
   "execution_count": null,
   "metadata": {
    "slideshow": {
     "slide_type": "fragment"
    }
   },
   "outputs": [],
   "source": [
    "gdf2 = geopandas.read_file(\"nybb.geojson\")\n",
    "#gdf2.head()"
   ]
  },
  {
   "cell_type": "markdown",
   "metadata": {
    "slideshow": {
     "slide_type": "slide"
    }
   },
   "source": [
    "<div class=\"alert alert-success\">\n",
    "    <h3 align=\"center\">(b.2) Plotting</h3>\n",
    "</div>"
   ]
  },
  {
   "cell_type": "markdown",
   "metadata": {
    "slideshow": {
     "slide_type": "fragment"
    }
   },
   "source": [
    "- geopandas provides a high-level interface to the matplotlib library for making maps. Mapping shapes is as easy as using the plot() method on a GeoSeries or GeoDataFrame."
   ]
  },
  {
   "cell_type": "code",
   "execution_count": null,
   "metadata": {
    "slideshow": {
     "slide_type": "fragment"
    }
   },
   "outputs": [],
   "source": [
    "gdf2.plot();\n",
    "#gdf2[\"geometry\"].plot();"
   ]
  },
  {
   "cell_type": "code",
   "execution_count": null,
   "metadata": {
    "slideshow": {
     "slide_type": "fragment"
    }
   },
   "outputs": [],
   "source": [
    "type(gdf2[\"geometry\"])"
   ]
  },
  {
   "cell_type": "code",
   "execution_count": null,
   "metadata": {
    "slideshow": {
     "slide_type": "fragment"
    }
   },
   "outputs": [],
   "source": [
    "type(gdf2)"
   ]
  },
  {
   "cell_type": "markdown",
   "metadata": {
    "slideshow": {
     "slide_type": "slide"
    }
   },
   "source": [
    "**Mini Activity** Plesae adjust the size of the previos plot and change its color map\n",
    "\n",
    "We have several options in geopandas.plot() like the options we have with matplotlib to change graphical representation we want to produce (for user guide use shift+tab)\n",
    "\n",
    "- figuresize--> figsize=(x, y)\n",
    "- aspect = 'equal'\n",
    "- color map---> cmap=\"cmap name\"\n",
    "- ..."
   ]
  },
  {
   "cell_type": "code",
   "execution_count": null,
   "metadata": {
    "slideshow": {
     "slide_type": "fragment"
    }
   },
   "outputs": [],
   "source": [
    "gdf2[\"geometry\"].plot();"
   ]
  },
  {
   "cell_type": "markdown",
   "metadata": {
    "slideshow": {
     "slide_type": "slide"
    }
   },
   "source": [
    "**Other vectors (point)**\n",
    "\n",
    "latitude and longitude of australian cities from https://simplemaps.com/data/au-cities"
   ]
  },
  {
   "cell_type": "markdown",
   "metadata": {
    "slideshow": {
     "slide_type": "fragment"
    }
   },
   "source": [
    "**Mini Activity:** Read the au.csv file in subfolder \"Data\" and drop all columns except \"city\", \"lat\", \"lng\", and \"population\"\n",
    "1. we can read csv files with pandas: pd.read_csv()\n",
    "2. functions of pandas can be used to drop unwanted columns and rows: df.drop[]"
   ]
  },
  {
   "cell_type": "code",
   "execution_count": null,
   "metadata": {
    "slideshow": {
     "slide_type": "fragment"
    }
   },
   "outputs": [],
   "source": [
    "import pandas as pd\n",
    "\n",
    "df = pd.read_csv(\"./Data/au.csv\")"
   ]
  },
  {
   "cell_type": "code",
   "execution_count": null,
   "metadata": {
    "slideshow": {
     "slide_type": "subslide"
    }
   },
   "outputs": [],
   "source": [
    "df.head()"
   ]
  },
  {
   "cell_type": "code",
   "execution_count": null,
   "metadata": {
    "slideshow": {
     "slide_type": "fragment"
    }
   },
   "outputs": [],
   "source": [
    "df = df.drop([\"country\", \"iso2\", \"admin_name\", \"capital\", \"population_proper\"], axis=1)"
   ]
  },
  {
   "cell_type": "code",
   "execution_count": null,
   "metadata": {
    "slideshow": {
     "slide_type": "subslide"
    }
   },
   "outputs": [],
   "source": [
    "df.head()"
   ]
  },
  {
   "cell_type": "code",
   "execution_count": null,
   "metadata": {
    "slideshow": {
     "slide_type": "subslide"
    }
   },
   "outputs": [],
   "source": [
    "df['point'] = list(zip(df.lng, df.lat))\n",
    "df.head()\n",
    "#df.plot()"
   ]
  },
  {
   "cell_type": "code",
   "execution_count": null,
   "metadata": {
    "slideshow": {
     "slide_type": "fragment"
    }
   },
   "outputs": [],
   "source": [
    "from shapely.geometry import Point\n",
    "df['geometry'] = df['point'].apply(Point)\n",
    "df.head()"
   ]
  },
  {
   "cell_type": "code",
   "execution_count": null,
   "metadata": {
    "slideshow": {
     "slide_type": "slide"
    }
   },
   "outputs": [],
   "source": [
    "df.plot()\n",
    "#df[\"geometry\"].plot()\n",
    "\n",
    "#type(df['geometry'])\n",
    "#type(df['geometry'][1])"
   ]
  },
  {
   "cell_type": "markdown",
   "metadata": {
    "slideshow": {
     "slide_type": "slide"
    }
   },
   "source": [
    "from shapely.geometry import Point, LineString, Polygon\n",
    "\n",
    "https://gis.stackexchange.com/questions/246782/geopandas-line-polygon-intersection"
   ]
  },
  {
   "cell_type": "code",
   "execution_count": null,
   "metadata": {
    "slideshow": {
     "slide_type": "fragment"
    }
   },
   "outputs": [],
   "source": [
    "gdf_points = geopandas.GeoDataFrame(df, geometry=\"geometry\")\n",
    "\n",
    "gdf_points.plot()"
   ]
  },
  {
   "cell_type": "markdown",
   "metadata": {
    "slideshow": {
     "slide_type": "slide"
    }
   },
   "source": [
    "**Mini Activity:** Please change the color of points in the previous scatter plot based on the population of each city\n",
    "\n",
    "- use the guide provided by the developer through doc stringing"
   ]
  },
  {
   "cell_type": "code",
   "execution_count": null,
   "metadata": {
    "slideshow": {
     "slide_type": "fragment"
    }
   },
   "outputs": [],
   "source": [
    "#gdf_points.plot(column=\"population\")\n",
    "#gdf_points.plot(column=\"population\", legend=True)\n",
    "#gdf_points.plot(column=\"population\", cmap=\"????\", legend=True)\n",
    "#gdf_points[800:].plot(column=\"population\", cmap=\"YlGn_r\", legend=True)"
   ]
  },
  {
   "cell_type": "markdown",
   "metadata": {
    "slideshow": {
     "slide_type": "slide"
    }
   },
   "source": [
    "<div class=\"alert alert-success\">\n",
    "    <h3 align=\"center\">(b.3) Projections</h3>\n",
    "</div>"
   ]
  },
  {
   "cell_type": "markdown",
   "metadata": {
    "slideshow": {
     "slide_type": "fragment"
    }
   },
   "source": [
    "Each GeoSeries has the Coordinate Reference System (CRS) accessible as GeoSeries.crs. CRS tells GeoPandas where the coordinates of geometries are located on the Earth. In some cases, CRS is geographic, which means that coordinates are in latitude and longitude. In those cases, its CRS is WGS84, with the authority code EPSG:4326.\n",
    "\n",
    "\n",
    "https://en.wikipedia.org/wiki/EPSG_Geodetic_Parameter_Dataset"
   ]
  },
  {
   "cell_type": "code",
   "execution_count": null,
   "metadata": {
    "slideshow": {
     "slide_type": "slide"
    }
   },
   "outputs": [],
   "source": [
    "import geopandas\n",
    "path_to_data = geopandas.datasets.get_path(\"nybb\")\n",
    "gdf = geopandas.read_file(path_to_data)\n",
    "gdf.crs"
   ]
  },
  {
   "cell_type": "markdown",
   "metadata": {
    "slideshow": {
     "slide_type": "fragment"
    }
   },
   "source": [
    "Geometries are in EPSG:2263 with coordinates in feet. We can easily re-project a GeoSeries to another CRS, like EPSG:4326 using GeoSeries.to_crs()."
   ]
  },
  {
   "cell_type": "code",
   "execution_count": null,
   "metadata": {
    "slideshow": {
     "slide_type": "slide"
    }
   },
   "outputs": [],
   "source": [
    "gdf_4326 = gdf.to_crs(\"EPSG:4326\")"
   ]
  },
  {
   "cell_type": "code",
   "execution_count": null,
   "metadata": {},
   "outputs": [],
   "source": [
    "#https://stackoverflow.com/questions/55390492/runtimeerror-bno-arguments-in-initialization-list"
   ]
  },
  {
   "cell_type": "code",
   "execution_count": null,
   "metadata": {
    "slideshow": {
     "slide_type": "fragment"
    }
   },
   "outputs": [],
   "source": [
    "gdf_4326.crs"
   ]
  },
  {
   "cell_type": "code",
   "execution_count": null,
   "metadata": {
    "slideshow": {
     "slide_type": "fragment"
    }
   },
   "outputs": [],
   "source": [
    "##How to plot the map of transfered data?\n",
    "gdf_4326.???()"
   ]
  },
  {
   "cell_type": "code",
   "execution_count": null,
   "metadata": {},
   "outputs": [],
   "source": [
    "gdf.plot()"
   ]
  },
  {
   "cell_type": "markdown",
   "metadata": {
    "slideshow": {
     "slide_type": "slide"
    }
   },
   "source": [
    "<div class=\"alert alert-success\">\n",
    "    <h3 align=\"center\">(b.4) Adding a background map to plots</h3>\n",
    "</div>"
   ]
  },
  {
   "cell_type": "markdown",
   "metadata": {
    "slideshow": {
     "slide_type": "fragment"
    }
   },
   "source": [
    "### contextily\n",
    "\n",
    "Web map tiles are typically provided in Web Mercator (EPSG 3857), so we need to make sure to convert our data first to the same CRS to combine our polygons and background tiles in the same map:"
   ]
  },
  {
   "cell_type": "code",
   "execution_count": null,
   "metadata": {
    "slideshow": {
     "slide_type": "fragment"
    }
   },
   "outputs": [],
   "source": [
    "gdf = gdf.to_crs(epsg=3857)"
   ]
  },
  {
   "cell_type": "code",
   "execution_count": null,
   "metadata": {
    "slideshow": {
     "slide_type": "slide"
    }
   },
   "outputs": [],
   "source": [
    "import contextily as ctx\n",
    "ax = gdf.plot(figsize=(6, 6), alpha=0.5, edgecolor='k', cmap=\"twilight_shifted_r\")\n",
    "ctx.add_basemap(ax)"
   ]
  },
  {
   "cell_type": "markdown",
   "metadata": {
    "slideshow": {
     "slide_type": "skip"
    }
   },
   "source": [
    "if you do not have the contextily module installed you will face the following error:\n",
    "- ModuleNotFoundError: No module named 'contextily'\n",
    "    \n",
    "How to fix it?\n",
    "\n",
    "#!pip install contextily"
   ]
  },
  {
   "cell_type": "markdown",
   "metadata": {
    "slideshow": {
     "slide_type": "slide"
    }
   },
   "source": [
    "By default, contextily uses the Stamen Terrain style. We can specify a different style using ctx.providers:"
   ]
  },
  {
   "cell_type": "code",
   "execution_count": null,
   "metadata": {
    "slideshow": {
     "slide_type": "fragment"
    }
   },
   "outputs": [],
   "source": [
    "ax = gdf.plot(figsize=(6, 6), alpha=0.5, edgecolor='k', cmap=\"twilight_shifted_r\")\n",
    "ctx.add_basemap(ax, url=ctx.providers.Stamen.TonerLite)\n",
    "ax.set_axis_off()"
   ]
  },
  {
   "cell_type": "markdown",
   "metadata": {
    "slideshow": {
     "slide_type": "slide"
    }
   },
   "source": [
    "**Mini Activity:** Please plot the scatter plot of australian cities (with their population) on a base map\n",
    "- you can set the CRS for gdf_points using .set_crs(\"EPSG:4326\") or .crs = \"EPSG:4326\""
   ]
  },
  {
   "cell_type": "code",
   "execution_count": null,
   "metadata": {
    "slideshow": {
     "slide_type": "fragment"
    }
   },
   "outputs": [],
   "source": [
    "gdf_points.head()"
   ]
  },
  {
   "cell_type": "code",
   "execution_count": null,
   "metadata": {
    "slideshow": {
     "slide_type": "subslide"
    }
   },
   "outputs": [],
   "source": [
    "gdf_points.crs = \"EPSG:4326\"\n",
    "gdf_points= gdf_points.to_crs(epsg=3857)\n",
    "\n",
    "ax = gdf_points[800:].plot(figsize=(7, 7),column=\"population\", cmap=\"YlGn_r\", legend=True)\n",
    "#gdf.plot(, alpha=0.5, edgecolor='k', cmap=\"twilight_shifted_r\")\n",
    "ctx.add_basemap(ax, url=ctx.providers.Stamen.TonerLite)\n",
    "ax.set_axis_off()"
   ]
  },
  {
   "cell_type": "markdown",
   "metadata": {
    "slideshow": {
     "slide_type": "slide"
    }
   },
   "source": [
    "### mplleaflet\n",
    "**Why mplleaflet?**\n",
    "\n",
    "<div class=\"alert-info\">\n",
    "    \n",
    "- Other Python libraries, basemap and folium, exist to create maps in Python. However mplleaflet allows you to leverage all matplotlib capability without having to set up the background basemap. You can use plot() to style points and lines, and you can also use more complex functions like contour(), quiver(), etc. Furthermore, with mplleaflet you no longer have to worry about setting up the basemap. Displaying continents or roads is determined automatically by the zoom level required to view the physical size of the data. You should use a different library if you need fine control over the basemap, or need a geographic projection other than spherical mercator.\n",
    "</div>\n",
    "\n",
    "**One thing to notice is that the values of the geometry do not directly represent the values of latitude of longitude in geographic coordinate system**\n",
    "\n",
    "EPSG2263: a local coordinate system that provides a high degree of accuracy and balances size and shape well.\n",
    "\n",
    "folium(i.e. leaflet.js) by default takes input of values of latitude and longitude---> we need to project the geometry first"
   ]
  },
  {
   "cell_type": "code",
   "execution_count": null,
   "metadata": {
    "slideshow": {
     "slide_type": "subslide"
    }
   },
   "outputs": [],
   "source": [
    "#plot (generate a plot of a GeoDataFrame with matplotlib)\n",
    "gdf_points = gdf_points.to_crs(\"EPSG:4326\")\n",
    "ax = gdf_points[800:].plot(figsize=(10, 10),column=\"population\", cmap=\"twilight_shifted\", legend=True)\n",
    "\n",
    "# crs=Coordinate Reference Systems\n",
    "import mplleaflet\n",
    "\n",
    "mplleaflet.display(fig=ax.figure, closefig=False) #??????  #gdf_points.to_crs(\"EPSG:4326\")"
   ]
  },
  {
   "cell_type": "markdown",
   "metadata": {
    "slideshow": {
     "slide_type": "skip"
    }
   },
   "source": [
    "### AttributeError: 'XAxis' object has no attribute '_gridOnMajor'\n",
    "\n",
    "downgrade matplotlib to matplotlib==3.3.2"
   ]
  },
  {
   "cell_type": "markdown",
   "metadata": {
    "slideshow": {
     "slide_type": "slide"
    }
   },
   "source": [
    "<div class=\"alert alert-success\">\n",
    "    <h3 align=\"center\">(b.5) Attributes of a GeoDataFrame</h3>\n",
    "</div>"
   ]
  },
  {
   "cell_type": "markdown",
   "metadata": {
    "slideshow": {
     "slide_type": "subslide"
    }
   },
   "source": [
    "#### Getting polygon area "
   ]
  },
  {
   "cell_type": "markdown",
   "metadata": {
    "slideshow": {
     "slide_type": "fragment"
    }
   },
   "source": [
    "<div class=\"alert-danger\">\n",
    "<font size=\"3\">    \n",
    "For operations that rely on distance or area, you always need to use projected CRS (in meters, feet, kilometers etc.) not a geographic one. GeoPandas operations are planar, and degrees reflect the position on a sphere. Therefore the results may not be correct. For example, the result of gdf.area.sum() (projected CRS) is 8 429 911 572 ft2 but the result of boroughs_4326.area.sum() (geographic CRS) is 0.083.\n",
    "</font>\n",
    "</div>"
   ]
  },
  {
   "cell_type": "code",
   "execution_count": null,
   "metadata": {
    "slideshow": {
     "slide_type": "fragment"
    }
   },
   "outputs": [],
   "source": [
    "gdf.crs ###what information does it provide?"
   ]
  },
  {
   "cell_type": "code",
   "execution_count": null,
   "metadata": {
    "slideshow": {
     "slide_type": "slide"
    }
   },
   "outputs": [],
   "source": [
    "#lets get back to the polygon vector\n",
    "gdf2.columns"
   ]
  },
  {
   "cell_type": "code",
   "execution_count": null,
   "metadata": {
    "slideshow": {
     "slide_type": "fragment"
    }
   },
   "outputs": [],
   "source": [
    "gdf2.drop(['Shape_Area'], axis = 1)"
   ]
  },
  {
   "cell_type": "markdown",
   "metadata": {
    "slideshow": {
     "slide_type": "subslide"
    }
   },
   "source": [
    "- We can calcualte the area of each polygon using .area\n",
    "- What is the unit?"
   ]
  },
  {
   "cell_type": "code",
   "execution_count": null,
   "metadata": {
    "slideshow": {
     "slide_type": "fragment"
    }
   },
   "outputs": [],
   "source": [
    "#Attributes of geo-data frame could be used to ease the calculations\n",
    "gdf2.area"
   ]
  },
  {
   "cell_type": "markdown",
   "metadata": {
    "slideshow": {
     "slide_type": "slide"
    }
   },
   "source": [
    "#### Getting polygon boundary "
   ]
  },
  {
   "cell_type": "code",
   "execution_count": null,
   "metadata": {
    "slideshow": {
     "slide_type": "fragment"
    }
   },
   "outputs": [],
   "source": [
    "gdf.boundary\n",
    "# can we plot these boundaries?"
   ]
  },
  {
   "cell_type": "code",
   "execution_count": null,
   "metadata": {
    "slideshow": {
     "slide_type": "fragment"
    }
   },
   "outputs": [],
   "source": [
    "gdf.boundary.plot(cmap=\"Accent_r\")"
   ]
  },
  {
   "cell_type": "markdown",
   "metadata": {
    "slideshow": {
     "slide_type": "slide"
    }
   },
   "source": [
    "#### Getting polygon centroid"
   ]
  },
  {
   "cell_type": "code",
   "execution_count": null,
   "metadata": {
    "slideshow": {
     "slide_type": "fragment"
    }
   },
   "outputs": [],
   "source": [
    "gdf.centroid"
   ]
  },
  {
   "cell_type": "markdown",
   "metadata": {
    "slideshow": {
     "slide_type": "slide"
    }
   },
   "source": [
    "How to plot centroids?\n",
    "\n",
    "- type(gdf.centroid)-------> geopandas.geoseries.GeoSeries"
   ]
  },
  {
   "cell_type": "code",
   "execution_count": null,
   "metadata": {
    "slideshow": {
     "slide_type": "fragment"
    }
   },
   "outputs": [],
   "source": [
    "#How to plot centroids?\n",
    "\n",
    "gdf.centroid.plot(figsize=(4,4), cmap=\"winter_r\");"
   ]
  },
  {
   "cell_type": "markdown",
   "metadata": {
    "slideshow": {
     "slide_type": "slide"
    }
   },
   "source": [
    "<div class=\"alert alert-success\">\n",
    "    <h3 align=\"center\">(b.6) Basic Methods</h3>\n",
    "</div>"
   ]
  },
  {
   "cell_type": "markdown",
   "metadata": {
    "slideshow": {
     "slide_type": "fragment"
    }
   },
   "source": [
    "#### Making a buffer around the object\n",
    "\n",
    "<img src='images/18.png' width='30%'/>"
   ]
  },
  {
   "cell_type": "code",
   "execution_count": null,
   "metadata": {
    "slideshow": {
     "slide_type": "slide"
    }
   },
   "outputs": [],
   "source": [
    "import matplotlib.pyplot as plt\n",
    "\n",
    "fig, (ax1, ax2) = plt.subplots(ncols=2, sharex=False, sharey=False)\n",
    "#plt.subplots_adjust(left=None, bottom=None, right=None, top=None, wspace=0.5, hspace=None)\n",
    "gdf.plot(ax=ax1, alpha = 0.6)\n",
    "gdf.buffer(1000).plot(ax = ax2, color=\"red\", alpha=.5)"
   ]
  },
  {
   "cell_type": "markdown",
   "metadata": {
    "slideshow": {
     "slide_type": "slide"
    }
   },
   "source": [
    "### Measuring distance \n",
    "    \n",
    "measere the distance between first point and other points?\n",
    "<img src='images/10.png' width='30%'/>\n",
    "\n",
    "- .distance(targetpoint)"
   ]
  },
  {
   "cell_type": "markdown",
   "metadata": {
    "slideshow": {
     "slide_type": "slide"
    }
   },
   "source": [
    "\n",
    "Measure the distance between center of first polygon (first row) and the center of other polygons?\n",
    "\n",
    "- getting center of all polygons!\n"
   ]
  },
  {
   "cell_type": "markdown",
   "metadata": {
    "slideshow": {
     "slide_type": "fragment"
    }
   },
   "source": [
    "##### first choose the first point! \n",
    "\n",
    "How?\n",
    "gdf.centroid.iloc[0]"
   ]
  },
  {
   "cell_type": "code",
   "execution_count": null,
   "metadata": {
    "slideshow": {
     "slide_type": "fragment"
    }
   },
   "outputs": [],
   "source": [
    "first_point = ???"
   ]
  },
  {
   "cell_type": "markdown",
   "metadata": {
    "slideshow": {
     "slide_type": "fragment"
    }
   },
   "source": [
    "##### second calculate the distance using distance attribute!"
   ]
  },
  {
   "cell_type": "code",
   "execution_count": null,
   "metadata": {
    "slideshow": {
     "slide_type": "fragment"
    }
   },
   "outputs": [],
   "source": [
    "distance = gdf.centroid.distance(first_point)\n",
    "distance"
   ]
  },
  {
   "cell_type": "code",
   "execution_count": null,
   "metadata": {
    "slideshow": {
     "slide_type": "subslide"
    }
   },
   "outputs": [],
   "source": [
    "gdf[\"distance\"] = distance\n",
    "gdf"
   ]
  },
  {
   "cell_type": "markdown",
   "metadata": {
    "slideshow": {
     "slide_type": "fragment"
    }
   },
   "source": [
    "- It’s still a DataFrame, so we have all the pandas functionality available to use on the geospatial dataset, and to do data manipulations with the attributes and geometry information together."
   ]
  },
  {
   "cell_type": "code",
   "execution_count": null,
   "metadata": {
    "slideshow": {
     "slide_type": "fragment"
    }
   },
   "outputs": [],
   "source": [
    "gdf['distance'].mean()"
   ]
  },
  {
   "cell_type": "markdown",
   "metadata": {
    "slideshow": {
     "slide_type": "skip"
    }
   },
   "source": [
    "#### Break"
   ]
  },
  {
   "cell_type": "markdown",
   "metadata": {
    "slideshow": {
     "slide_type": "slide"
    }
   },
   "source": [
    "<div class=\"alert alert-info\">\n",
    "    <h3 align=\"center\">(c) pysal</h3>\n",
    "</div>\n",
    "<div class=\"alert-info\">\n",
    "<font size=\"5\"> </font> \n",
    "    \n",
    "   \n",
    "</div>\n",
    "\n",
    "[link](https://pysal.org/)"
   ]
  },
  {
   "cell_type": "markdown",
   "metadata": {
    "slideshow": {
     "slide_type": "fragment"
    }
   },
   "source": [
    "<div class=\"alert-info\">\n",
    "   \n",
    "PySAL is a `Spatial Analysis Library <>`__, which packages fast spatial algorithms used in various fields. These include Exploratory spatial data analysis, spatial inequality analysis, spatial analysis on networks, spatial dynamics, and many more.\n",
    "\n",
    "It is used under the hood in geopandas when plotting measures with a set of colors. There are many ways to classify data into different bins, depending on a number of classification schemes.\n",
    "</div>"
   ]
  },
  {
   "cell_type": "markdown",
   "metadata": {
    "slideshow": {
     "slide_type": "slide"
    }
   },
   "source": [
    "#### Choropleth classification schemes from PySAL for use with GeoPandas\n",
    "\n",
    "A choropleth map (from Greek χῶρος choros 'area/region' and πλῆθος plethos 'multitude') is a type of thematic map in which a set of pre-defined areas is colored or patterned in proportion to a statistical variable that represents an aggregate summary of a geographic characteristic within each area, such as population"
   ]
  },
  {
   "cell_type": "markdown",
   "metadata": {
    "slideshow": {
     "slide_type": "fragment"
    }
   },
   "source": [
    "<img src='images/11.png' width='30%'/>"
   ]
  },
  {
   "cell_type": "markdown",
   "metadata": {
    "slideshow": {
     "slide_type": "slide"
    }
   },
   "source": [
    "#### Plotting the CRIME variable"
   ]
  },
  {
   "cell_type": "markdown",
   "metadata": {
    "slideshow": {
     "slide_type": "skip"
    }
   },
   "source": [
    "Error: ImportError: DLL load failed: The specified procedure could not be found.\n",
    "\n",
    "install libpysal with conda"
   ]
  },
  {
   "cell_type": "code",
   "execution_count": null,
   "metadata": {
    "slideshow": {
     "slide_type": "fragment"
    }
   },
   "outputs": [],
   "source": [
    "# We use a PySAL example shapefile\n",
    "import libpysal as ps\n",
    "import geopandas as gpd\n",
    "pth = ps.examples.get_path(\"columbus.shp\")\n",
    "tracts = gpd.GeoDataFrame.from_file(pth)\n",
    "print('Observations, Attributes:',tracts.shape)\n",
    "tracts.head()"
   ]
  },
  {
   "cell_type": "code",
   "execution_count": null,
   "metadata": {
    "slideshow": {
     "slide_type": "subslide"
    }
   },
   "outputs": [],
   "source": [
    "from libpysal.examples import explain\n",
    "explain('columbus')"
   ]
  },
  {
   "cell_type": "code",
   "execution_count": null,
   "metadata": {
    "slideshow": {
     "slide_type": "slide"
    }
   },
   "outputs": [],
   "source": [
    "# Let's take a look at how the CRIME variable is distributed with a histogram\n",
    "tracts['CRIME'].hist(bins=20)\n",
    "plt.xlabel('CRIME\\nResidential burglaries and vehicle thefts per 1000 households')\n",
    "plt.ylabel('Number of neighbourhoods')\n",
    "plt.title('Distribution of neighbourhoods by crime rate in Columbus, OH')\n",
    "plt.show()"
   ]
  },
  {
   "cell_type": "code",
   "execution_count": null,
   "metadata": {
    "slideshow": {
     "slide_type": "subslide"
    }
   },
   "outputs": [],
   "source": [
    "tracts.plot(column='CRIME', cmap='OrRd', edgecolor='k', legend=True)"
   ]
  },
  {
   "cell_type": "markdown",
   "metadata": {
    "slideshow": {
     "slide_type": "slide"
    }
   },
   "source": [
    "**Classification by quantiles**"
   ]
  },
  {
   "cell_type": "code",
   "execution_count": null,
   "metadata": {
    "slideshow": {
     "slide_type": "fragment"
    }
   },
   "outputs": [],
   "source": [
    "# Splitting the data in three shows some spatial clustering around the center\n",
    "\n",
    "#if you dont have pysal installed on your system, you will face the 'mapclassify' or 'pysal' package is required to use the 'scheme' keyword\n",
    "tracts.plot(column='CRIME', scheme='quantiles', k=3, cmap='OrRd', edgecolor='k', legend=True)"
   ]
  },
  {
   "cell_type": "markdown",
   "metadata": {
    "slideshow": {
     "slide_type": "skip"
    }
   },
   "source": [
    "Error: ImportError: The 'mapclassify' >= 2.2.0 package is required to use the 'scheme' keyword\n",
    "\n",
    "pip install pysal"
   ]
  },
  {
   "cell_type": "code",
   "execution_count": null,
   "metadata": {
    "slideshow": {
     "slide_type": "fragment"
    }
   },
   "outputs": [],
   "source": [
    "# We can also see where the top and bottom halves are located\n",
    "tracts.plot(column='CRIME', scheme='quantiles', k=2, cmap='OrRd', edgecolor='k', legend=True)"
   ]
  },
  {
   "cell_type": "markdown",
   "metadata": {
    "slideshow": {
     "slide_type": "slide"
    }
   },
   "source": [
    "**Classification by equal intervals**\n",
    "\n",
    "EQUAL INTERVAL divides the data into equal size classes (e.g., 0-10, 10-20, 20-30, etc.) and works best on data that is generally spread across the entire range. CAUTION: Avoid equal interval if your data are skewed to one end or if you have one or two really large outlier values."
   ]
  },
  {
   "cell_type": "code",
   "execution_count": null,
   "metadata": {
    "slideshow": {
     "slide_type": "fragment"
    }
   },
   "outputs": [],
   "source": [
    "tracts.plot(column='CRIME', scheme='equal_interval', k=4, cmap='OrRd', edgecolor='k', legend=True)"
   ]
  },
  {
   "cell_type": "code",
   "execution_count": null,
   "metadata": {
    "slideshow": {
     "slide_type": "subslide"
    }
   },
   "outputs": [],
   "source": [
    "# No legend here as we'd be out of space\n",
    "tracts.plot(column='CRIME', scheme='equal_interval', k=12, cmap='OrRd', edgecolor='k')"
   ]
  }
 ],
 "metadata": {
  "celltoolbar": "Slideshow",
  "kernelspec": {
   "display_name": "Python 3",
   "language": "python",
   "name": "python3"
  },
  "language_info": {
   "codemirror_mode": {
    "name": "ipython",
    "version": 3
   },
   "file_extension": ".py",
   "mimetype": "text/x-python",
   "name": "python",
   "nbconvert_exporter": "python",
   "pygments_lexer": "ipython3",
   "version": "3.8.5"
  }
 },
 "nbformat": 4,
 "nbformat_minor": 2
}
