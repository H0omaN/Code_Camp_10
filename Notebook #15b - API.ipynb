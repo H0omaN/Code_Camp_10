{
 "cells": [
  {
   "cell_type": "markdown",
   "metadata": {
    "slideshow": {
     "slide_type": "slide"
    }
   },
   "source": [
    "<div class=\"alert alert-success\">\n",
    "    <h1 align=\"center\">Week #8:</h1> \n",
    "        \n",
    "   <h2 align=\"center\">Introduction to APIs</h2>\n",
    "</div>"
   ]
  },
  {
   "cell_type": "markdown",
   "metadata": {
    "slideshow": {
     "slide_type": "fragment"
    }
   },
   "source": [
    "## Introduction to APIs\n",
    "\n",
    "<img src='images/17.jpg' width='40%'/>"
   ]
  },
  {
   "cell_type": "markdown",
   "metadata": {
    "slideshow": {
     "slide_type": "subslide"
    }
   },
   "source": [
    "### Aims\n",
    "\n",
    "This exercise aims to introduce you to we APIs and get you familiar with accessing them via Python. the objectives are,\n",
    "\n",
    "- Send a simple API request\n",
    "- Understand the status codes\n",
    "- Send a API request with Authentication\n",
    "- Parsing the returned data\n",
    "- Plotting the data to create a map!\n",
    " \n",
    "At the end of this tutorial you should be fairly confident to go on and explore other API's and be able to move on to more complex methods of authentication such as 'Oauth'.\n",
    "\n",
    "\n",
    "## Installing the basics\n",
    "\n",
    "Before we connect to some API's we need libraries which enable Python to be able to connect to them and send/recieve data from them. The library we will use is called `requests`. Install the library and load it by running the commands below,\n"
   ]
  },
  {
   "cell_type": "code",
   "execution_count": 1,
   "metadata": {
    "slideshow": {
     "slide_type": "slide"
    }
   },
   "outputs": [],
   "source": [
    "# Install a packages requried for the current tutorial\n",
    "import sys\n",
    "!{sys.executable} -m pip install -q requests\n",
    "!{sys.executable} -m pip install -q google\n",
    "!{sys.executable} -m pip install -q google-api-python-client\n",
    "!{sys.executable} -m pip install -q gtfs-realtime-bindings\n",
    "!{sys.executable} -m pip install -q pandas\n",
    "!{sys.executable} -m pip install -q geopandas\n",
    "!{sys.executable} -m pip install -q matplotlib\n",
    "!{sys.executable} -m pip install -q folium"
   ]
  },
  {
   "cell_type": "code",
   "execution_count": 4,
   "metadata": {
    "slideshow": {
     "slide_type": "fragment"
    }
   },
   "outputs": [],
   "source": [
    "# Import the installed packages into current environment\n",
    "import requests\n",
    "import folium\n",
    "import time\n",
    "import pandas\n",
    "import geopandas\n",
    "from google.transit import gtfs_realtime_pb2\n",
    "from shapely.geometry import Point\n",
    "from IPython import display"
   ]
  },
  {
   "cell_type": "markdown",
   "metadata": {
    "slideshow": {
     "slide_type": "subslide"
    }
   },
   "source": [
    "Now we are all set.\n",
    "\n",
    "Let's explore some web API's!\n"
   ]
  },
  {
   "cell_type": "markdown",
   "metadata": {
    "slideshow": {
     "slide_type": "slide"
    }
   },
   "source": [
    "## Connecting to your First API\n",
    "\n",
    "Let's jump start things by connecting to an API and downloading some data. We will use the TransportNSW's live vehicle position API available here https://opendata.transport.nsw.gov.au/dataset/public-transport-realtime-vehicle-positions.\n",
    "\n",
    "Okay let's send our first get query!"
   ]
  },
  {
   "cell_type": "code",
   "execution_count": 5,
   "metadata": {
    "slideshow": {
     "slide_type": "fragment"
    }
   },
   "outputs": [],
   "source": [
    "# Create a result object with the Transport API\n",
    "\n",
    "result = requests.get('https://api.transport.nsw.gov.au/v1/gtfs/vehiclepos/ferries/sydneyferries')"
   ]
  },
  {
   "cell_type": "markdown",
   "metadata": {
    "slideshow": {
     "slide_type": "fragment"
    }
   },
   "source": [
    "Wait! you must be wondering that there is nothing here and what happened? Basically we have created the object successfully. No error message is good news here.\n",
    "\n",
    "Now lets examine the resulted object closely. First thing we need to check the `Status Code` of the result. This code says how successful the API request has been.\n"
   ]
  },
  {
   "cell_type": "code",
   "execution_count": 6,
   "metadata": {
    "slideshow": {
     "slide_type": "fragment"
    }
   },
   "outputs": [
    {
     "data": {
      "text/plain": [
       "401"
      ]
     },
     "execution_count": 6,
     "metadata": {},
     "output_type": "execute_result"
    }
   ],
   "source": [
    "result.status_code"
   ]
  },
  {
   "cell_type": "markdown",
   "metadata": {
    "slideshow": {
     "slide_type": "slide"
    }
   },
   "source": [
    "Hmm, Thats cryptic... Basically every code here corresponds to certain status the common ones are given below,\n",
    "\n",
    "Code | Status | Description\n",
    "---|---|---\n",
    "200 | OK | The request was successfully completed.\n",
    "201 | Created | A new resource was successfully created.\n",
    "400 | Bad Request | The request was invalid.\n",
    "401 | Unauthorized | The request did not include an authentication token or the authentication token was expired.\n",
    "403 | Forbidden | The client did not have permission to access the requested resource.\n",
    "404 | Not Found | The requested resource was not found.\n",
    "405 | Method Not Allowed | The HTTP method in the request was not supported by the resource. For example, the DELETE method cannot be used with the Agent API.\n",
    "409 | Conflict | The request could not be completed due to a conflict. For example,  POST ContentStore Folder API cannot complete if the given file or folder name already exists in the parent location.\n",
    "500 | Internal Server Error | The request was not completed due to an internal error on the server side.\n",
    "503 | Service Unavailable | The server was unavailable.\n",
    " \n",
    "Our status code is 401 showing that we have some problem related to authentication. Lets print the text sent along with the response to see what the problem has been."
   ]
  },
  {
   "cell_type": "code",
   "execution_count": 7,
   "metadata": {
    "slideshow": {
     "slide_type": "subslide"
    }
   },
   "outputs": [
    {
     "data": {
      "text/plain": [
       "'{ \"ErrorDetails\":{ \"TransactionId\":\"000001780dc81340-8f55b48\", \"ErrorDateTime\":\"2021-04-07T07:44:57.906+10:00\", \"Message\":\"The calling application is unauthenticated.\", \"RequestedUrl\":\"/v1/gtfs/vehiclepos/ferries/sydneyferries\", \"RequestMethod\":\"GET\" } }'"
      ]
     },
     "execution_count": 7,
     "metadata": {},
     "output_type": "execute_result"
    }
   ],
   "source": [
    "result.text"
   ]
  },
  {
   "cell_type": "markdown",
   "metadata": {
    "slideshow": {
     "slide_type": "fragment"
    }
   },
   "source": [
    "Thats a lot of information! You can see that the text in the result object is in `JSON` (JavaScript Object Notation) format. If we parse it properly, we can query components of this object without printing everything."
   ]
  },
  {
   "cell_type": "code",
   "execution_count": 8,
   "metadata": {
    "slideshow": {
     "slide_type": "subslide"
    }
   },
   "outputs": [
    {
     "data": {
      "text/plain": [
       "'The calling application is unauthenticated.'"
      ]
     },
     "execution_count": 8,
     "metadata": {},
     "output_type": "execute_result"
    }
   ],
   "source": [
    "# Parse the result\n",
    "result_json = result.json()\n",
    "\n",
    "# Print just the error message\n",
    "result_json['ErrorDetails']['Message']"
   ]
  },
  {
   "cell_type": "markdown",
   "metadata": {
    "slideshow": {
     "slide_type": "fragment"
    }
   },
   "source": [
    "So basically, our API request has been rejected since it had no authentication details.\n",
    "Most API providers will restrict the use of their APIs (even open ones) to avoid abuse.\n",
    "We might have to create an account and get authetication details to use this API."
   ]
  },
  {
   "cell_type": "markdown",
   "metadata": {
    "slideshow": {
     "slide_type": "slide"
    }
   },
   "source": [
    "## Authenticating with API key\n",
    "\n",
    "For this class I have already signed up with the transportNSW developer website, created an application and generated an API key.\n",
    "The key is `CGrnUTmzoaCL57n9TzoseFqUb22Pqz32m1eB`. \n",
    "\n",
    "Now we have to send this key on the header of the request.\n"
   ]
  },
  {
   "cell_type": "code",
   "execution_count": 9,
   "metadata": {
    "scrolled": true,
    "slideshow": {
     "slide_type": "fragment"
    }
   },
   "outputs": [
    {
     "data": {
      "text/plain": [
       "200"
      ]
     },
     "execution_count": 9,
     "metadata": {},
     "output_type": "execute_result"
    }
   ],
   "source": [
    "# Create a headers object\n",
    "headers = {'Authorization' : 'apikey CGrnUTmzoaCL57n9TzoseFqUb22Pqz32m1eB'}\n",
    "\n",
    "# Create a request with the headers\n",
    "result = requests.get(url='https://api.transport.nsw.gov.au/v1/gtfs/vehiclepos/ferries/sydneyferries', headers=headers)\n",
    "\n",
    "# Check the status\n",
    "result.status_code"
   ]
  },
  {
   "cell_type": "markdown",
   "metadata": {
    "slideshow": {
     "slide_type": "fragment"
    }
   },
   "source": [
    "Yay! That has worked... \n",
    "\n",
    "Lets start to explore the data that has been sent back.\n"
   ]
  },
  {
   "cell_type": "code",
   "execution_count": 10,
   "metadata": {
    "scrolled": true,
    "slideshow": {
     "slide_type": "slide"
    }
   },
   "outputs": [
    {
     "data": {
      "text/plain": [
       "'\\x031.0\\x10\\x00\\x18Ϭ��\\x06\\x12�\\x01\\x1120210407_074447_1\"�\\x01;\\x17CI0645-1.060421.31.0719\\x12\\x0807:19:00\\x1a\\x0820210407\\x00*9-F8-sj2-1\\x12\\x14�i\\x07�\\x15g5\\x17C\\x00\\x00�B-)\\\\�@\\x18\\x06\\x02(ʬ��\\x060\\x00:\\x0520413B5\\x08Fishburn\\x12\\'07:19amCockatooIsland-CircularQuay\\x1a\\x00\\x12�\\x01\\x1120210407_074447_2\"�\\x01;\\x17CI0745-2.060421.31.0745\\x12\\x0807:45:00\\x1a\\x0820210407\\x00*9-F8-sj2-1\\x12\\x14'"
      ]
     },
     "execution_count": 10,
     "metadata": {},
     "output_type": "execute_result"
    }
   ],
   "source": [
    "# Print the first 20 lines of the raw text\n",
    "# The command looks complicated but you can also do \n",
    "# print(result.text) to get all the results\n",
    "\n",
    "''.join(str.split(result.text)[:20])\n"
   ]
  },
  {
   "cell_type": "markdown",
   "metadata": {
    "slideshow": {
     "slide_type": "fragment"
    }
   },
   "source": [
    "That is not helpful at all... The format of the returned data is `protobuf` (Protocol buffers) which is used to compress the data sent back and forth using APIs - especially realtime ones like this.\n",
    "\n",
    "Now we need to parse and understand the result that has been sent back."
   ]
  },
  {
   "cell_type": "markdown",
   "metadata": {
    "slideshow": {
     "slide_type": "slide"
    }
   },
   "source": [
    "## Parsing GTFS-realtime data\n",
    "\n",
    "As we saw before, GTFS-realtime data is in protobuf format which needs to be parsed into a python object so that we can plot it on a map.\n",
    "\n",
    "We need to create an feed object from the gtfs_realtime_pb2 package which can parse the result"
   ]
  },
  {
   "cell_type": "code",
   "execution_count": 11,
   "metadata": {
    "slideshow": {
     "slide_type": "subslide"
    }
   },
   "outputs": [
    {
     "data": {
      "text/plain": [
       "id: \"20210407_074447_1\"\n",
       "vehicle {\n",
       "  trip {\n",
       "    trip_id: \"CI0645-1.060421.31.0719\"\n",
       "    start_time: \"07:19:00\"\n",
       "    start_date: \"20210407\"\n",
       "    schedule_relationship: SCHEDULED\n",
       "    route_id: \"9-F8-sj2-1\"\n",
       "  }\n",
       "  position {\n",
       "    latitude: -33.85311508178711\n",
       "    longitude: 151.20860290527344\n",
       "    bearing: 105.0\n",
       "    speed: 6.480000019073486\n",
       "  }\n",
       "  current_stop_sequence: 6\n",
       "  current_status: IN_TRANSIT_TO\n",
       "  timestamp: 1617745482\n",
       "  congestion_level: UNKNOWN_CONGESTION_LEVEL\n",
       "  stop_id: \"20413\"\n",
       "  vehicle {\n",
       "    id: \"Fishburn\"\n",
       "    label: \"07:19am Cockatoo Island - Circular Quay\"\n",
       "    license_plate: \"\"\n",
       "  }\n",
       "}"
      ]
     },
     "execution_count": 11,
     "metadata": {},
     "output_type": "execute_result"
    }
   ],
   "source": [
    "# creating a feed object\n",
    "feed = gtfs_realtime_pb2.FeedMessage()\n",
    "\n",
    "# Use the feed object to parse the result of the API\n",
    "feed.ParseFromString(result.content)\n",
    "\n",
    "# Print the results\n",
    "feed.entity[0]"
   ]
  },
  {
   "cell_type": "markdown",
   "metadata": {
    "slideshow": {
     "slide_type": "subslide"
    }
   },
   "source": [
    "If all of these feed objects and parsing sounds complicated, It's alright. All you need to know is that there are different formats of data returned from different API's and you need to convert them in python to be able to make sense out of them.\n",
    "\n",
    "Now we have successfully traslated the data into a format we can read! Lets convert it in to a tabular format.\n",
    "\n",
    "The code below should create a table using the data from the API and with the ID, "
   ]
  },
  {
   "cell_type": "code",
   "execution_count": 12,
   "metadata": {
    "slideshow": {
     "slide_type": "subslide"
    }
   },
   "outputs": [
    {
     "data": {
      "text/html": [
       "<div>\n",
       "<style scoped>\n",
       "    .dataframe tbody tr th:only-of-type {\n",
       "        vertical-align: middle;\n",
       "    }\n",
       "\n",
       "    .dataframe tbody tr th {\n",
       "        vertical-align: top;\n",
       "    }\n",
       "\n",
       "    .dataframe thead th {\n",
       "        text-align: right;\n",
       "    }\n",
       "</style>\n",
       "<table border=\"1\" class=\"dataframe\">\n",
       "  <thead>\n",
       "    <tr style=\"text-align: right;\">\n",
       "      <th></th>\n",
       "      <th>id</th>\n",
       "      <th>lat</th>\n",
       "      <th>lng</th>\n",
       "    </tr>\n",
       "  </thead>\n",
       "  <tbody>\n",
       "    <tr>\n",
       "      <th>0</th>\n",
       "      <td>20210407_074447_1</td>\n",
       "      <td>-33.853115</td>\n",
       "      <td>151.208603</td>\n",
       "    </tr>\n",
       "    <tr>\n",
       "      <th>1</th>\n",
       "      <td>20210407_074447_2</td>\n",
       "      <td>-33.860500</td>\n",
       "      <td>151.210327</td>\n",
       "    </tr>\n",
       "    <tr>\n",
       "      <th>2</th>\n",
       "      <td>20210407_074447_3</td>\n",
       "      <td>-33.849354</td>\n",
       "      <td>151.206741</td>\n",
       "    </tr>\n",
       "    <tr>\n",
       "      <th>3</th>\n",
       "      <td>20210407_074447_4</td>\n",
       "      <td>-33.868164</td>\n",
       "      <td>151.198944</td>\n",
       "    </tr>\n",
       "    <tr>\n",
       "      <th>4</th>\n",
       "      <td>20210407_074447_5</td>\n",
       "      <td>-33.848518</td>\n",
       "      <td>151.208862</td>\n",
       "    </tr>\n",
       "    <tr>\n",
       "      <th>5</th>\n",
       "      <td>20210407_074447_6</td>\n",
       "      <td>-33.844635</td>\n",
       "      <td>151.257339</td>\n",
       "    </tr>\n",
       "    <tr>\n",
       "      <th>6</th>\n",
       "      <td>20210407_074447_7</td>\n",
       "      <td>-33.855301</td>\n",
       "      <td>151.215118</td>\n",
       "    </tr>\n",
       "    <tr>\n",
       "      <th>7</th>\n",
       "      <td>20210407_074447_8</td>\n",
       "      <td>-33.848068</td>\n",
       "      <td>151.230927</td>\n",
       "    </tr>\n",
       "    <tr>\n",
       "      <th>8</th>\n",
       "      <td>20210407_074447_9</td>\n",
       "      <td>-33.843384</td>\n",
       "      <td>151.221664</td>\n",
       "    </tr>\n",
       "    <tr>\n",
       "      <th>9</th>\n",
       "      <td>20210407_074447_10</td>\n",
       "      <td>-33.855049</td>\n",
       "      <td>151.195511</td>\n",
       "    </tr>\n",
       "    <tr>\n",
       "      <th>10</th>\n",
       "      <td>20210407_074447_11</td>\n",
       "      <td>-33.840569</td>\n",
       "      <td>151.117004</td>\n",
       "    </tr>\n",
       "    <tr>\n",
       "      <th>11</th>\n",
       "      <td>20210407_074447_13</td>\n",
       "      <td>-33.844929</td>\n",
       "      <td>151.139633</td>\n",
       "    </tr>\n",
       "    <tr>\n",
       "      <th>12</th>\n",
       "      <td>20210407_074447_14</td>\n",
       "      <td>-33.844917</td>\n",
       "      <td>151.171127</td>\n",
       "    </tr>\n",
       "    <tr>\n",
       "      <th>13</th>\n",
       "      <td>20210407_074447_15</td>\n",
       "      <td>-33.845352</td>\n",
       "      <td>151.141693</td>\n",
       "    </tr>\n",
       "    <tr>\n",
       "      <th>14</th>\n",
       "      <td>20210407_074447_16</td>\n",
       "      <td>-33.830799</td>\n",
       "      <td>151.099731</td>\n",
       "    </tr>\n",
       "    <tr>\n",
       "      <th>15</th>\n",
       "      <td>20210407_074447_17</td>\n",
       "      <td>-33.846321</td>\n",
       "      <td>151.239349</td>\n",
       "    </tr>\n",
       "    <tr>\n",
       "      <th>16</th>\n",
       "      <td>20210407_074447_18</td>\n",
       "      <td>-33.870522</td>\n",
       "      <td>151.262085</td>\n",
       "    </tr>\n",
       "    <tr>\n",
       "      <th>17</th>\n",
       "      <td>20210407_074447_19</td>\n",
       "      <td>-33.860718</td>\n",
       "      <td>151.211884</td>\n",
       "    </tr>\n",
       "    <tr>\n",
       "      <th>18</th>\n",
       "      <td>20210407_074447_25</td>\n",
       "      <td>-33.845432</td>\n",
       "      <td>151.173386</td>\n",
       "    </tr>\n",
       "    <tr>\n",
       "      <th>19</th>\n",
       "      <td>20210407_074447_53</td>\n",
       "      <td>-33.800400</td>\n",
       "      <td>151.283615</td>\n",
       "    </tr>\n",
       "  </tbody>\n",
       "</table>\n",
       "</div>"
      ],
      "text/plain": [
       "                    id        lat         lng\n",
       "0    20210407_074447_1 -33.853115  151.208603\n",
       "1    20210407_074447_2 -33.860500  151.210327\n",
       "2    20210407_074447_3 -33.849354  151.206741\n",
       "3    20210407_074447_4 -33.868164  151.198944\n",
       "4    20210407_074447_5 -33.848518  151.208862\n",
       "5    20210407_074447_6 -33.844635  151.257339\n",
       "6    20210407_074447_7 -33.855301  151.215118\n",
       "7    20210407_074447_8 -33.848068  151.230927\n",
       "8    20210407_074447_9 -33.843384  151.221664\n",
       "9   20210407_074447_10 -33.855049  151.195511\n",
       "10  20210407_074447_11 -33.840569  151.117004\n",
       "11  20210407_074447_13 -33.844929  151.139633\n",
       "12  20210407_074447_14 -33.844917  151.171127\n",
       "13  20210407_074447_15 -33.845352  151.141693\n",
       "14  20210407_074447_16 -33.830799  151.099731\n",
       "15  20210407_074447_17 -33.846321  151.239349\n",
       "16  20210407_074447_18 -33.870522  151.262085\n",
       "17  20210407_074447_19 -33.860718  151.211884\n",
       "18  20210407_074447_25 -33.845432  151.173386\n",
       "19  20210407_074447_53 -33.800400  151.283615"
      ]
     },
     "execution_count": 12,
     "metadata": {},
     "output_type": "execute_result"
    }
   ],
   "source": [
    "data = pandas.DataFrame()\n",
    "\n",
    "for i in feed.entity :\n",
    "    row = pandas.Series([i.id,float(i.vehicle.position.latitude),float(i.vehicle.position.longitude)])\n",
    "    row_df = pandas.DataFrame([row])\n",
    "    data = pandas.concat([data,row_df],ignore_index=True)\n",
    "    \n",
    "data.columns = ['id','lat','lng']\n",
    "\n",
    "data"
   ]
  },
  {
   "cell_type": "markdown",
   "metadata": {
    "slideshow": {
     "slide_type": "slide"
    }
   },
   "source": [
    "## Plotting the API on a Map\n",
    "\n",
    "We have the data from TransportNSW in a tabular format. The next step is to convert it into geographic data format and visualise it in realtime.\n",
    "\n",
    "Geographic data has three components - Geometry, Atrributes and Coordinate Reference Systems. We already have the attributes in the form of the table. Now we need to create the CRS and geometry.\n",
    "\n",
    "The code below does both,"
   ]
  },
  {
   "cell_type": "code",
   "execution_count": 13,
   "metadata": {
    "slideshow": {
     "slide_type": "fragment"
    }
   },
   "outputs": [],
   "source": [
    "# Create a simple CRS string - 4326 is WSG84 a.k.a latitude and longitude numbers.\n",
    "crs = 'epsg:4326'\n",
    "\n",
    "# We create the geometry from the lat, lng columns of the table\n",
    "geometry = [Point(xy) for xy in zip(data['lng'],data['lat'])]\n",
    "geo_data = geopandas.GeoDataFrame(data,crs=crs,geometry=geometry)\n",
    "\n",
    "# We convert the geodata into JSON format so that it can be mapped easily\n",
    "geo_json = geo_data.to_json()"
   ]
  },
  {
   "cell_type": "markdown",
   "metadata": {
    "slideshow": {
     "slide_type": "fragment"
    }
   },
   "source": [
    "\n",
    "\n",
    "Now we have all that is needed to make an interactive map! The `geo_json` object can now be added on top of a base map using the `folium` library as shown below,\n",
    "\n"
   ]
  },
  {
   "cell_type": "code",
   "execution_count": 14,
   "metadata": {
    "scrolled": true,
    "slideshow": {
     "slide_type": "slide"
    }
   },
   "outputs": [
    {
     "data": {
      "text/html": [
       "<div style=\"width:100%;\"><div style=\"position:relative;width:100%;height:0;padding-bottom:60%;\"><span style=\"color:#565656\">Make this Notebook Trusted to load map: File -> Trust Notebook</span><iframe src=\"about:blank\" style=\"position:absolute;width:100%;height:100%;left:0;top:0;border:none !important;\" data-html=%3C%21DOCTYPE%20html%3E%0A%3Chead%3E%20%20%20%20%0A%20%20%20%20%3Cmeta%20http-equiv%3D%22content-type%22%20content%3D%22text/html%3B%20charset%3DUTF-8%22%20/%3E%0A%20%20%20%20%0A%20%20%20%20%20%20%20%20%3Cscript%3E%0A%20%20%20%20%20%20%20%20%20%20%20%20L_NO_TOUCH%20%3D%20false%3B%0A%20%20%20%20%20%20%20%20%20%20%20%20L_DISABLE_3D%20%3D%20false%3B%0A%20%20%20%20%20%20%20%20%3C/script%3E%0A%20%20%20%20%0A%20%20%20%20%3Cstyle%3Ehtml%2C%20body%20%7Bwidth%3A%20100%25%3Bheight%3A%20100%25%3Bmargin%3A%200%3Bpadding%3A%200%3B%7D%3C/style%3E%0A%20%20%20%20%3Cstyle%3E%23map%20%7Bposition%3Aabsolute%3Btop%3A0%3Bbottom%3A0%3Bright%3A0%3Bleft%3A0%3B%7D%3C/style%3E%0A%20%20%20%20%3Cscript%20src%3D%22https%3A//cdn.jsdelivr.net/npm/leaflet%401.6.0/dist/leaflet.js%22%3E%3C/script%3E%0A%20%20%20%20%3Cscript%20src%3D%22https%3A//code.jquery.com/jquery-1.12.4.min.js%22%3E%3C/script%3E%0A%20%20%20%20%3Cscript%20src%3D%22https%3A//maxcdn.bootstrapcdn.com/bootstrap/3.2.0/js/bootstrap.min.js%22%3E%3C/script%3E%0A%20%20%20%20%3Cscript%20src%3D%22https%3A//cdnjs.cloudflare.com/ajax/libs/Leaflet.awesome-markers/2.0.2/leaflet.awesome-markers.js%22%3E%3C/script%3E%0A%20%20%20%20%3Clink%20rel%3D%22stylesheet%22%20href%3D%22https%3A//cdn.jsdelivr.net/npm/leaflet%401.6.0/dist/leaflet.css%22/%3E%0A%20%20%20%20%3Clink%20rel%3D%22stylesheet%22%20href%3D%22https%3A//maxcdn.bootstrapcdn.com/bootstrap/3.2.0/css/bootstrap.min.css%22/%3E%0A%20%20%20%20%3Clink%20rel%3D%22stylesheet%22%20href%3D%22https%3A//maxcdn.bootstrapcdn.com/bootstrap/3.2.0/css/bootstrap-theme.min.css%22/%3E%0A%20%20%20%20%3Clink%20rel%3D%22stylesheet%22%20href%3D%22https%3A//maxcdn.bootstrapcdn.com/font-awesome/4.6.3/css/font-awesome.min.css%22/%3E%0A%20%20%20%20%3Clink%20rel%3D%22stylesheet%22%20href%3D%22https%3A//cdnjs.cloudflare.com/ajax/libs/Leaflet.awesome-markers/2.0.2/leaflet.awesome-markers.css%22/%3E%0A%20%20%20%20%3Clink%20rel%3D%22stylesheet%22%20href%3D%22https%3A//cdn.jsdelivr.net/gh/python-visualization/folium/folium/templates/leaflet.awesome.rotate.min.css%22/%3E%0A%20%20%20%20%0A%20%20%20%20%20%20%20%20%20%20%20%20%3Cmeta%20name%3D%22viewport%22%20content%3D%22width%3Ddevice-width%2C%0A%20%20%20%20%20%20%20%20%20%20%20%20%20%20%20%20initial-scale%3D1.0%2C%20maximum-scale%3D1.0%2C%20user-scalable%3Dno%22%20/%3E%0A%20%20%20%20%20%20%20%20%20%20%20%20%3Cstyle%3E%0A%20%20%20%20%20%20%20%20%20%20%20%20%20%20%20%20%23map_254a3e4142cb4b6aa499c4881085832a%20%7B%0A%20%20%20%20%20%20%20%20%20%20%20%20%20%20%20%20%20%20%20%20position%3A%20relative%3B%0A%20%20%20%20%20%20%20%20%20%20%20%20%20%20%20%20%20%20%20%20width%3A%20100.0%25%3B%0A%20%20%20%20%20%20%20%20%20%20%20%20%20%20%20%20%20%20%20%20height%3A%20100.0%25%3B%0A%20%20%20%20%20%20%20%20%20%20%20%20%20%20%20%20%20%20%20%20left%3A%200.0%25%3B%0A%20%20%20%20%20%20%20%20%20%20%20%20%20%20%20%20%20%20%20%20top%3A%200.0%25%3B%0A%20%20%20%20%20%20%20%20%20%20%20%20%20%20%20%20%7D%0A%20%20%20%20%20%20%20%20%20%20%20%20%3C/style%3E%0A%20%20%20%20%20%20%20%20%0A%3C/head%3E%0A%3Cbody%3E%20%20%20%20%0A%20%20%20%20%0A%20%20%20%20%20%20%20%20%20%20%20%20%3Cdiv%20class%3D%22folium-map%22%20id%3D%22map_254a3e4142cb4b6aa499c4881085832a%22%20%3E%3C/div%3E%0A%20%20%20%20%20%20%20%20%0A%3C/body%3E%0A%3Cscript%3E%20%20%20%20%0A%20%20%20%20%0A%20%20%20%20%20%20%20%20%20%20%20%20var%20map_254a3e4142cb4b6aa499c4881085832a%20%3D%20L.map%28%0A%20%20%20%20%20%20%20%20%20%20%20%20%20%20%20%20%22map_254a3e4142cb4b6aa499c4881085832a%22%2C%0A%20%20%20%20%20%20%20%20%20%20%20%20%20%20%20%20%7B%0A%20%20%20%20%20%20%20%20%20%20%20%20%20%20%20%20%20%20%20%20center%3A%20%5B-33.854504%2C%20151.218034%5D%2C%0A%20%20%20%20%20%20%20%20%20%20%20%20%20%20%20%20%20%20%20%20crs%3A%20L.CRS.EPSG3857%2C%0A%20%20%20%20%20%20%20%20%20%20%20%20%20%20%20%20%20%20%20%20zoom%3A%2011%2C%0A%20%20%20%20%20%20%20%20%20%20%20%20%20%20%20%20%20%20%20%20zoomControl%3A%20true%2C%0A%20%20%20%20%20%20%20%20%20%20%20%20%20%20%20%20%20%20%20%20preferCanvas%3A%20false%2C%0A%20%20%20%20%20%20%20%20%20%20%20%20%20%20%20%20%7D%0A%20%20%20%20%20%20%20%20%20%20%20%20%29%3B%0A%0A%20%20%20%20%20%20%20%20%20%20%20%20%0A%0A%20%20%20%20%20%20%20%20%0A%20%20%20%20%0A%20%20%20%20%20%20%20%20%20%20%20%20var%20tile_layer_527ca221131848de9552b49e44b47c14%20%3D%20L.tileLayer%28%0A%20%20%20%20%20%20%20%20%20%20%20%20%20%20%20%20%22https%3A//stamen-tiles-%7Bs%7D.a.ssl.fastly.net/toner/%7Bz%7D/%7Bx%7D/%7By%7D.png%22%2C%0A%20%20%20%20%20%20%20%20%20%20%20%20%20%20%20%20%7B%22attribution%22%3A%20%22Map%20tiles%20by%20%5Cu003ca%20href%3D%5C%22http%3A//stamen.com%5C%22%5Cu003eStamen%20Design%5Cu003c/a%5Cu003e%2C%20under%20%5Cu003ca%20href%3D%5C%22http%3A//creativecommons.org/licenses/by/3.0%5C%22%5Cu003eCC%20BY%203.0%5Cu003c/a%5Cu003e.%20Data%20by%20%5Cu0026copy%3B%20%5Cu003ca%20href%3D%5C%22http%3A//openstreetmap.org%5C%22%5Cu003eOpenStreetMap%5Cu003c/a%5Cu003e%2C%20under%20%5Cu003ca%20href%3D%5C%22http%3A//www.openstreetmap.org/copyright%5C%22%5Cu003eODbL%5Cu003c/a%5Cu003e.%22%2C%20%22detectRetina%22%3A%20false%2C%20%22maxNativeZoom%22%3A%2018%2C%20%22maxZoom%22%3A%2018%2C%20%22minZoom%22%3A%200%2C%20%22noWrap%22%3A%20false%2C%20%22opacity%22%3A%201%2C%20%22subdomains%22%3A%20%22abc%22%2C%20%22tms%22%3A%20false%7D%0A%20%20%20%20%20%20%20%20%20%20%20%20%29.addTo%28map_254a3e4142cb4b6aa499c4881085832a%29%3B%0A%20%20%20%20%20%20%20%20%0A%20%20%20%20%0A%0A%20%20%20%20%20%20%20%20function%20geo_json_554a25a6294a42acad8a0278ddd99aca_onEachFeature%28feature%2C%20layer%29%20%7B%0A%20%20%20%20%20%20%20%20%20%20%20%20layer.on%28%7B%0A%20%20%20%20%20%20%20%20%20%20%20%20%7D%29%3B%0A%20%20%20%20%20%20%20%20%7D%3B%0A%20%20%20%20%20%20%20%20var%20geo_json_554a25a6294a42acad8a0278ddd99aca%20%3D%20L.geoJson%28null%2C%20%7B%0A%20%20%20%20%20%20%20%20%20%20%20%20%20%20%20%20onEachFeature%3A%20geo_json_554a25a6294a42acad8a0278ddd99aca_onEachFeature%2C%0A%20%20%20%20%20%20%20%20%20%20%20%20%0A%20%20%20%20%20%20%20%20%7D%29%3B%0A%0A%20%20%20%20%20%20%20%20function%20geo_json_554a25a6294a42acad8a0278ddd99aca_add%20%28data%29%20%7B%0A%20%20%20%20%20%20%20%20%20%20%20%20geo_json_554a25a6294a42acad8a0278ddd99aca%0A%20%20%20%20%20%20%20%20%20%20%20%20%20%20%20%20.addData%28data%29%0A%20%20%20%20%20%20%20%20%20%20%20%20%20%20%20%20.addTo%28map_254a3e4142cb4b6aa499c4881085832a%29%3B%0A%20%20%20%20%20%20%20%20%7D%0A%20%20%20%20%20%20%20%20%20%20%20%20geo_json_554a25a6294a42acad8a0278ddd99aca_add%28%7B%22features%22%3A%20%5B%7B%22geometry%22%3A%20%7B%22coordinates%22%3A%20%5B151.20860290527344%2C%20-33.85311508178711%5D%2C%20%22type%22%3A%20%22Point%22%7D%2C%20%22id%22%3A%20%220%22%2C%20%22properties%22%3A%20%7B%22id%22%3A%20%2220210407_074447_1%22%2C%20%22lat%22%3A%20-33.85311508178711%2C%20%22lng%22%3A%20151.20860290527344%7D%2C%20%22type%22%3A%20%22Feature%22%7D%2C%20%7B%22geometry%22%3A%20%7B%22coordinates%22%3A%20%5B151.2103271484375%2C%20-33.86050033569336%5D%2C%20%22type%22%3A%20%22Point%22%7D%2C%20%22id%22%3A%20%221%22%2C%20%22properties%22%3A%20%7B%22id%22%3A%20%2220210407_074447_2%22%2C%20%22lat%22%3A%20-33.86050033569336%2C%20%22lng%22%3A%20151.2103271484375%7D%2C%20%22type%22%3A%20%22Feature%22%7D%2C%20%7B%22geometry%22%3A%20%7B%22coordinates%22%3A%20%5B151.2067413330078%2C%20-33.8493537902832%5D%2C%20%22type%22%3A%20%22Point%22%7D%2C%20%22id%22%3A%20%222%22%2C%20%22properties%22%3A%20%7B%22id%22%3A%20%2220210407_074447_3%22%2C%20%22lat%22%3A%20-33.8493537902832%2C%20%22lng%22%3A%20151.2067413330078%7D%2C%20%22type%22%3A%20%22Feature%22%7D%2C%20%7B%22geometry%22%3A%20%7B%22coordinates%22%3A%20%5B151.19894409179688%2C%20-33.8681640625%5D%2C%20%22type%22%3A%20%22Point%22%7D%2C%20%22id%22%3A%20%223%22%2C%20%22properties%22%3A%20%7B%22id%22%3A%20%2220210407_074447_4%22%2C%20%22lat%22%3A%20-33.8681640625%2C%20%22lng%22%3A%20151.19894409179688%7D%2C%20%22type%22%3A%20%22Feature%22%7D%2C%20%7B%22geometry%22%3A%20%7B%22coordinates%22%3A%20%5B151.2088623046875%2C%20-33.84851837158203%5D%2C%20%22type%22%3A%20%22Point%22%7D%2C%20%22id%22%3A%20%224%22%2C%20%22properties%22%3A%20%7B%22id%22%3A%20%2220210407_074447_5%22%2C%20%22lat%22%3A%20-33.84851837158203%2C%20%22lng%22%3A%20151.2088623046875%7D%2C%20%22type%22%3A%20%22Feature%22%7D%2C%20%7B%22geometry%22%3A%20%7B%22coordinates%22%3A%20%5B151.25733947753906%2C%20-33.844635009765625%5D%2C%20%22type%22%3A%20%22Point%22%7D%2C%20%22id%22%3A%20%225%22%2C%20%22properties%22%3A%20%7B%22id%22%3A%20%2220210407_074447_6%22%2C%20%22lat%22%3A%20-33.844635009765625%2C%20%22lng%22%3A%20151.25733947753906%7D%2C%20%22type%22%3A%20%22Feature%22%7D%2C%20%7B%22geometry%22%3A%20%7B%22coordinates%22%3A%20%5B151.21511840820312%2C%20-33.85530090332031%5D%2C%20%22type%22%3A%20%22Point%22%7D%2C%20%22id%22%3A%20%226%22%2C%20%22properties%22%3A%20%7B%22id%22%3A%20%2220210407_074447_7%22%2C%20%22lat%22%3A%20-33.85530090332031%2C%20%22lng%22%3A%20151.21511840820312%7D%2C%20%22type%22%3A%20%22Feature%22%7D%2C%20%7B%22geometry%22%3A%20%7B%22coordinates%22%3A%20%5B151.23092651367188%2C%20-33.84806823730469%5D%2C%20%22type%22%3A%20%22Point%22%7D%2C%20%22id%22%3A%20%227%22%2C%20%22properties%22%3A%20%7B%22id%22%3A%20%2220210407_074447_8%22%2C%20%22lat%22%3A%20-33.84806823730469%2C%20%22lng%22%3A%20151.23092651367188%7D%2C%20%22type%22%3A%20%22Feature%22%7D%2C%20%7B%22geometry%22%3A%20%7B%22coordinates%22%3A%20%5B151.22166442871094%2C%20-33.8433837890625%5D%2C%20%22type%22%3A%20%22Point%22%7D%2C%20%22id%22%3A%20%228%22%2C%20%22properties%22%3A%20%7B%22id%22%3A%20%2220210407_074447_9%22%2C%20%22lat%22%3A%20-33.8433837890625%2C%20%22lng%22%3A%20151.22166442871094%7D%2C%20%22type%22%3A%20%22Feature%22%7D%2C%20%7B%22geometry%22%3A%20%7B%22coordinates%22%3A%20%5B151.1955108642578%2C%20-33.85504913330078%5D%2C%20%22type%22%3A%20%22Point%22%7D%2C%20%22id%22%3A%20%229%22%2C%20%22properties%22%3A%20%7B%22id%22%3A%20%2220210407_074447_10%22%2C%20%22lat%22%3A%20-33.85504913330078%2C%20%22lng%22%3A%20151.1955108642578%7D%2C%20%22type%22%3A%20%22Feature%22%7D%2C%20%7B%22geometry%22%3A%20%7B%22coordinates%22%3A%20%5B151.11700439453125%2C%20-33.84056854248047%5D%2C%20%22type%22%3A%20%22Point%22%7D%2C%20%22id%22%3A%20%2210%22%2C%20%22properties%22%3A%20%7B%22id%22%3A%20%2220210407_074447_11%22%2C%20%22lat%22%3A%20-33.84056854248047%2C%20%22lng%22%3A%20151.11700439453125%7D%2C%20%22type%22%3A%20%22Feature%22%7D%2C%20%7B%22geometry%22%3A%20%7B%22coordinates%22%3A%20%5B151.13963317871094%2C%20-33.84492874145508%5D%2C%20%22type%22%3A%20%22Point%22%7D%2C%20%22id%22%3A%20%2211%22%2C%20%22properties%22%3A%20%7B%22id%22%3A%20%2220210407_074447_13%22%2C%20%22lat%22%3A%20-33.84492874145508%2C%20%22lng%22%3A%20151.13963317871094%7D%2C%20%22type%22%3A%20%22Feature%22%7D%2C%20%7B%22geometry%22%3A%20%7B%22coordinates%22%3A%20%5B151.17112731933594%2C%20-33.84491729736328%5D%2C%20%22type%22%3A%20%22Point%22%7D%2C%20%22id%22%3A%20%2212%22%2C%20%22properties%22%3A%20%7B%22id%22%3A%20%2220210407_074447_14%22%2C%20%22lat%22%3A%20-33.84491729736328%2C%20%22lng%22%3A%20151.17112731933594%7D%2C%20%22type%22%3A%20%22Feature%22%7D%2C%20%7B%22geometry%22%3A%20%7B%22coordinates%22%3A%20%5B151.14169311523438%2C%20-33.84535217285156%5D%2C%20%22type%22%3A%20%22Point%22%7D%2C%20%22id%22%3A%20%2213%22%2C%20%22properties%22%3A%20%7B%22id%22%3A%20%2220210407_074447_15%22%2C%20%22lat%22%3A%20-33.84535217285156%2C%20%22lng%22%3A%20151.14169311523438%7D%2C%20%22type%22%3A%20%22Feature%22%7D%2C%20%7B%22geometry%22%3A%20%7B%22coordinates%22%3A%20%5B151.0997314453125%2C%20-33.8307991027832%5D%2C%20%22type%22%3A%20%22Point%22%7D%2C%20%22id%22%3A%20%2214%22%2C%20%22properties%22%3A%20%7B%22id%22%3A%20%2220210407_074447_16%22%2C%20%22lat%22%3A%20-33.8307991027832%2C%20%22lng%22%3A%20151.0997314453125%7D%2C%20%22type%22%3A%20%22Feature%22%7D%2C%20%7B%22geometry%22%3A%20%7B%22coordinates%22%3A%20%5B151.23934936523438%2C%20-33.84632110595703%5D%2C%20%22type%22%3A%20%22Point%22%7D%2C%20%22id%22%3A%20%2215%22%2C%20%22properties%22%3A%20%7B%22id%22%3A%20%2220210407_074447_17%22%2C%20%22lat%22%3A%20-33.84632110595703%2C%20%22lng%22%3A%20151.23934936523438%7D%2C%20%22type%22%3A%20%22Feature%22%7D%2C%20%7B%22geometry%22%3A%20%7B%22coordinates%22%3A%20%5B151.2620849609375%2C%20-33.870521545410156%5D%2C%20%22type%22%3A%20%22Point%22%7D%2C%20%22id%22%3A%20%2216%22%2C%20%22properties%22%3A%20%7B%22id%22%3A%20%2220210407_074447_18%22%2C%20%22lat%22%3A%20-33.870521545410156%2C%20%22lng%22%3A%20151.2620849609375%7D%2C%20%22type%22%3A%20%22Feature%22%7D%2C%20%7B%22geometry%22%3A%20%7B%22coordinates%22%3A%20%5B151.21188354492188%2C%20-33.8607177734375%5D%2C%20%22type%22%3A%20%22Point%22%7D%2C%20%22id%22%3A%20%2217%22%2C%20%22properties%22%3A%20%7B%22id%22%3A%20%2220210407_074447_19%22%2C%20%22lat%22%3A%20-33.8607177734375%2C%20%22lng%22%3A%20151.21188354492188%7D%2C%20%22type%22%3A%20%22Feature%22%7D%2C%20%7B%22geometry%22%3A%20%7B%22coordinates%22%3A%20%5B151.1733856201172%2C%20-33.84543228149414%5D%2C%20%22type%22%3A%20%22Point%22%7D%2C%20%22id%22%3A%20%2218%22%2C%20%22properties%22%3A%20%7B%22id%22%3A%20%2220210407_074447_25%22%2C%20%22lat%22%3A%20-33.84543228149414%2C%20%22lng%22%3A%20151.1733856201172%7D%2C%20%22type%22%3A%20%22Feature%22%7D%2C%20%7B%22geometry%22%3A%20%7B%22coordinates%22%3A%20%5B151.2836151123047%2C%20-33.80039978027344%5D%2C%20%22type%22%3A%20%22Point%22%7D%2C%20%22id%22%3A%20%2219%22%2C%20%22properties%22%3A%20%7B%22id%22%3A%20%2220210407_074447_53%22%2C%20%22lat%22%3A%20-33.80039978027344%2C%20%22lng%22%3A%20151.2836151123047%7D%2C%20%22type%22%3A%20%22Feature%22%7D%5D%2C%20%22type%22%3A%20%22FeatureCollection%22%7D%29%3B%0A%0A%20%20%20%20%20%20%20%20%0A%3C/script%3E onload=\"this.contentDocument.open();this.contentDocument.write(    decodeURIComponent(this.getAttribute('data-html')));this.contentDocument.close();\" allowfullscreen webkitallowfullscreen mozallowfullscreen></iframe></div></div>"
      ],
      "text/plain": [
       "<folium.folium.Map at 0x27684d95148>"
      ]
     },
     "execution_count": 14,
     "metadata": {},
     "output_type": "execute_result"
    }
   ],
   "source": [
    "# Create a base map with the specified style, center point and zoom level\n",
    "m = folium.Map(location=[-33.854504, 151.218034],\n",
    "               tiles='Stamen Toner',\n",
    "               zoom_start=11)\n",
    "\n",
    "# Add the geo_json to the map as points\n",
    "m.add_child(folium.features.GeoJson(geo_json))"
   ]
  },
  {
   "cell_type": "markdown",
   "metadata": {
    "slideshow": {
     "slide_type": "subslide"
    }
   },
   "source": [
    "Thats it!\n",
    "\n",
    "We downloaded data from TransportNSW on the real time location of Ferries and made a map out of it all within 20 mins! This is how powerful and simple APIs are. They simplify and standardise most of the data dissemination and secondary data collection so that we can focus on our research and analysis."
   ]
  },
  {
   "cell_type": "markdown",
   "metadata": {
    "slideshow": {
     "slide_type": "slide"
    }
   },
   "source": [
    "## Simple Application using the API\n",
    "\n",
    "Below is an example application using the TransportNSW API. When we combine all the steps we did before into a sequence and repeat them every 5 seconds, we can build a simple monitoring station which shows the real-time location of all the ferries."
   ]
  },
  {
   "cell_type": "code",
   "execution_count": 17,
   "metadata": {
    "slideshow": {
     "slide_type": "subslide"
    }
   },
   "outputs": [
    {
     "data": {
      "text/html": [
       "<div style=\"width:100%;\"><div style=\"position:relative;width:100%;height:0;padding-bottom:60%;\"><span style=\"color:#565656\">Make this Notebook Trusted to load map: File -> Trust Notebook</span><iframe src=\"about:blank\" style=\"position:absolute;width:100%;height:100%;left:0;top:0;border:none !important;\" data-html=%3C%21DOCTYPE%20html%3E%0A%3Chead%3E%20%20%20%20%0A%20%20%20%20%3Cmeta%20http-equiv%3D%22content-type%22%20content%3D%22text/html%3B%20charset%3DUTF-8%22%20/%3E%0A%20%20%20%20%0A%20%20%20%20%20%20%20%20%3Cscript%3E%0A%20%20%20%20%20%20%20%20%20%20%20%20L_NO_TOUCH%20%3D%20false%3B%0A%20%20%20%20%20%20%20%20%20%20%20%20L_DISABLE_3D%20%3D%20false%3B%0A%20%20%20%20%20%20%20%20%3C/script%3E%0A%20%20%20%20%0A%20%20%20%20%3Cstyle%3Ehtml%2C%20body%20%7Bwidth%3A%20100%25%3Bheight%3A%20100%25%3Bmargin%3A%200%3Bpadding%3A%200%3B%7D%3C/style%3E%0A%20%20%20%20%3Cstyle%3E%23map%20%7Bposition%3Aabsolute%3Btop%3A0%3Bbottom%3A0%3Bright%3A0%3Bleft%3A0%3B%7D%3C/style%3E%0A%20%20%20%20%3Cscript%20src%3D%22https%3A//cdn.jsdelivr.net/npm/leaflet%401.6.0/dist/leaflet.js%22%3E%3C/script%3E%0A%20%20%20%20%3Cscript%20src%3D%22https%3A//code.jquery.com/jquery-1.12.4.min.js%22%3E%3C/script%3E%0A%20%20%20%20%3Cscript%20src%3D%22https%3A//maxcdn.bootstrapcdn.com/bootstrap/3.2.0/js/bootstrap.min.js%22%3E%3C/script%3E%0A%20%20%20%20%3Cscript%20src%3D%22https%3A//cdnjs.cloudflare.com/ajax/libs/Leaflet.awesome-markers/2.0.2/leaflet.awesome-markers.js%22%3E%3C/script%3E%0A%20%20%20%20%3Clink%20rel%3D%22stylesheet%22%20href%3D%22https%3A//cdn.jsdelivr.net/npm/leaflet%401.6.0/dist/leaflet.css%22/%3E%0A%20%20%20%20%3Clink%20rel%3D%22stylesheet%22%20href%3D%22https%3A//maxcdn.bootstrapcdn.com/bootstrap/3.2.0/css/bootstrap.min.css%22/%3E%0A%20%20%20%20%3Clink%20rel%3D%22stylesheet%22%20href%3D%22https%3A//maxcdn.bootstrapcdn.com/bootstrap/3.2.0/css/bootstrap-theme.min.css%22/%3E%0A%20%20%20%20%3Clink%20rel%3D%22stylesheet%22%20href%3D%22https%3A//maxcdn.bootstrapcdn.com/font-awesome/4.6.3/css/font-awesome.min.css%22/%3E%0A%20%20%20%20%3Clink%20rel%3D%22stylesheet%22%20href%3D%22https%3A//cdnjs.cloudflare.com/ajax/libs/Leaflet.awesome-markers/2.0.2/leaflet.awesome-markers.css%22/%3E%0A%20%20%20%20%3Clink%20rel%3D%22stylesheet%22%20href%3D%22https%3A//cdn.jsdelivr.net/gh/python-visualization/folium/folium/templates/leaflet.awesome.rotate.min.css%22/%3E%0A%20%20%20%20%0A%20%20%20%20%20%20%20%20%20%20%20%20%3Cmeta%20name%3D%22viewport%22%20content%3D%22width%3Ddevice-width%2C%0A%20%20%20%20%20%20%20%20%20%20%20%20%20%20%20%20initial-scale%3D1.0%2C%20maximum-scale%3D1.0%2C%20user-scalable%3Dno%22%20/%3E%0A%20%20%20%20%20%20%20%20%20%20%20%20%3Cstyle%3E%0A%20%20%20%20%20%20%20%20%20%20%20%20%20%20%20%20%23map_540ba503ff6743ef897526b7765b34e1%20%7B%0A%20%20%20%20%20%20%20%20%20%20%20%20%20%20%20%20%20%20%20%20position%3A%20relative%3B%0A%20%20%20%20%20%20%20%20%20%20%20%20%20%20%20%20%20%20%20%20width%3A%20100.0%25%3B%0A%20%20%20%20%20%20%20%20%20%20%20%20%20%20%20%20%20%20%20%20height%3A%20100.0%25%3B%0A%20%20%20%20%20%20%20%20%20%20%20%20%20%20%20%20%20%20%20%20left%3A%200.0%25%3B%0A%20%20%20%20%20%20%20%20%20%20%20%20%20%20%20%20%20%20%20%20top%3A%200.0%25%3B%0A%20%20%20%20%20%20%20%20%20%20%20%20%20%20%20%20%7D%0A%20%20%20%20%20%20%20%20%20%20%20%20%3C/style%3E%0A%20%20%20%20%20%20%20%20%0A%3C/head%3E%0A%3Cbody%3E%20%20%20%20%0A%20%20%20%20%0A%20%20%20%20%20%20%20%20%20%20%20%20%3Cdiv%20class%3D%22folium-map%22%20id%3D%22map_540ba503ff6743ef897526b7765b34e1%22%20%3E%3C/div%3E%0A%20%20%20%20%20%20%20%20%0A%3C/body%3E%0A%3Cscript%3E%20%20%20%20%0A%20%20%20%20%0A%20%20%20%20%20%20%20%20%20%20%20%20var%20map_540ba503ff6743ef897526b7765b34e1%20%3D%20L.map%28%0A%20%20%20%20%20%20%20%20%20%20%20%20%20%20%20%20%22map_540ba503ff6743ef897526b7765b34e1%22%2C%0A%20%20%20%20%20%20%20%20%20%20%20%20%20%20%20%20%7B%0A%20%20%20%20%20%20%20%20%20%20%20%20%20%20%20%20%20%20%20%20center%3A%20%5B-33.854504%2C%20151.218034%5D%2C%0A%20%20%20%20%20%20%20%20%20%20%20%20%20%20%20%20%20%20%20%20crs%3A%20L.CRS.EPSG3857%2C%0A%20%20%20%20%20%20%20%20%20%20%20%20%20%20%20%20%20%20%20%20zoom%3A%2014%2C%0A%20%20%20%20%20%20%20%20%20%20%20%20%20%20%20%20%20%20%20%20zoomControl%3A%20true%2C%0A%20%20%20%20%20%20%20%20%20%20%20%20%20%20%20%20%20%20%20%20preferCanvas%3A%20false%2C%0A%20%20%20%20%20%20%20%20%20%20%20%20%20%20%20%20%7D%0A%20%20%20%20%20%20%20%20%20%20%20%20%29%3B%0A%0A%20%20%20%20%20%20%20%20%20%20%20%20%0A%0A%20%20%20%20%20%20%20%20%0A%20%20%20%20%0A%20%20%20%20%20%20%20%20%20%20%20%20var%20tile_layer_f635cbee70554a7fb0e6af7116edcc5b%20%3D%20L.tileLayer%28%0A%20%20%20%20%20%20%20%20%20%20%20%20%20%20%20%20%22https%3A//stamen-tiles-%7Bs%7D.a.ssl.fastly.net/toner/%7Bz%7D/%7Bx%7D/%7By%7D.png%22%2C%0A%20%20%20%20%20%20%20%20%20%20%20%20%20%20%20%20%7B%22attribution%22%3A%20%22Map%20tiles%20by%20%5Cu003ca%20href%3D%5C%22http%3A//stamen.com%5C%22%5Cu003eStamen%20Design%5Cu003c/a%5Cu003e%2C%20under%20%5Cu003ca%20href%3D%5C%22http%3A//creativecommons.org/licenses/by/3.0%5C%22%5Cu003eCC%20BY%203.0%5Cu003c/a%5Cu003e.%20Data%20by%20%5Cu0026copy%3B%20%5Cu003ca%20href%3D%5C%22http%3A//openstreetmap.org%5C%22%5Cu003eOpenStreetMap%5Cu003c/a%5Cu003e%2C%20under%20%5Cu003ca%20href%3D%5C%22http%3A//www.openstreetmap.org/copyright%5C%22%5Cu003eODbL%5Cu003c/a%5Cu003e.%22%2C%20%22detectRetina%22%3A%20false%2C%20%22maxNativeZoom%22%3A%2018%2C%20%22maxZoom%22%3A%2018%2C%20%22minZoom%22%3A%200%2C%20%22noWrap%22%3A%20false%2C%20%22opacity%22%3A%201%2C%20%22subdomains%22%3A%20%22abc%22%2C%20%22tms%22%3A%20false%7D%0A%20%20%20%20%20%20%20%20%20%20%20%20%29.addTo%28map_540ba503ff6743ef897526b7765b34e1%29%3B%0A%20%20%20%20%20%20%20%20%0A%20%20%20%20%0A%0A%20%20%20%20%20%20%20%20function%20geo_json_232b105e9d9147a08139a6572caa7713_onEachFeature%28feature%2C%20layer%29%20%7B%0A%20%20%20%20%20%20%20%20%20%20%20%20layer.on%28%7B%0A%20%20%20%20%20%20%20%20%20%20%20%20%7D%29%3B%0A%20%20%20%20%20%20%20%20%7D%3B%0A%20%20%20%20%20%20%20%20var%20geo_json_232b105e9d9147a08139a6572caa7713%20%3D%20L.geoJson%28null%2C%20%7B%0A%20%20%20%20%20%20%20%20%20%20%20%20%20%20%20%20onEachFeature%3A%20geo_json_232b105e9d9147a08139a6572caa7713_onEachFeature%2C%0A%20%20%20%20%20%20%20%20%20%20%20%20%0A%20%20%20%20%20%20%20%20%7D%29%3B%0A%0A%20%20%20%20%20%20%20%20function%20geo_json_232b105e9d9147a08139a6572caa7713_add%20%28data%29%20%7B%0A%20%20%20%20%20%20%20%20%20%20%20%20geo_json_232b105e9d9147a08139a6572caa7713%0A%20%20%20%20%20%20%20%20%20%20%20%20%20%20%20%20.addData%28data%29%0A%20%20%20%20%20%20%20%20%20%20%20%20%20%20%20%20.addTo%28map_540ba503ff6743ef897526b7765b34e1%29%3B%0A%20%20%20%20%20%20%20%20%7D%0A%20%20%20%20%20%20%20%20%20%20%20%20geo_json_232b105e9d9147a08139a6572caa7713_add%28%7B%22features%22%3A%20%5B%7B%22geometry%22%3A%20%7B%22coordinates%22%3A%20%5B151.18646240234375%2C%20-33.846282958984375%5D%2C%20%22type%22%3A%20%22Point%22%7D%2C%20%22id%22%3A%20%220%22%2C%20%22properties%22%3A%20%7B%22id%22%3A%20%2220210407_080012_1%22%2C%20%22lat%22%3A%20-33.846282958984375%2C%20%22lng%22%3A%20151.18646240234375%7D%2C%20%22type%22%3A%20%22Feature%22%7D%2C%20%7B%22geometry%22%3A%20%7B%22coordinates%22%3A%20%5B151.18638610839844%2C%20-33.854515075683594%5D%2C%20%22type%22%3A%20%22Point%22%7D%2C%20%22id%22%3A%20%221%22%2C%20%22properties%22%3A%20%7B%22id%22%3A%20%2220210407_080012_2%22%2C%20%22lat%22%3A%20-33.854515075683594%2C%20%22lng%22%3A%20151.18638610839844%7D%2C%20%22type%22%3A%20%22Feature%22%7D%2C%20%7B%22geometry%22%3A%20%7B%22coordinates%22%3A%20%5B151.19683837890625%2C%20-33.855499267578125%5D%2C%20%22type%22%3A%20%22Point%22%7D%2C%20%22id%22%3A%20%222%22%2C%20%22properties%22%3A%20%7B%22id%22%3A%20%2220210407_080012_3%22%2C%20%22lat%22%3A%20-33.855499267578125%2C%20%22lng%22%3A%20151.19683837890625%7D%2C%20%22type%22%3A%20%22Feature%22%7D%2C%20%7B%22geometry%22%3A%20%7B%22coordinates%22%3A%20%5B151.2000274658203%2C%20-33.86446762084961%5D%2C%20%22type%22%3A%20%22Point%22%7D%2C%20%22id%22%3A%20%223%22%2C%20%22properties%22%3A%20%7B%22id%22%3A%20%2220210407_080012_4%22%2C%20%22lat%22%3A%20-33.86446762084961%2C%20%22lng%22%3A%20151.2000274658203%7D%2C%20%22type%22%3A%20%22Feature%22%7D%2C%20%7B%22geometry%22%3A%20%7B%22coordinates%22%3A%20%5B151.21116638183594%2C%20-33.856834411621094%5D%2C%20%22type%22%3A%20%22Point%22%7D%2C%20%22id%22%3A%20%224%22%2C%20%22properties%22%3A%20%7B%22id%22%3A%20%2220210407_080012_5%22%2C%20%22lat%22%3A%20-33.856834411621094%2C%20%22lng%22%3A%20151.21116638183594%7D%2C%20%22type%22%3A%20%22Feature%22%7D%2C%20%7B%22geometry%22%3A%20%7B%22coordinates%22%3A%20%5B151.22628784179688%2C%20-33.85639953613281%5D%2C%20%22type%22%3A%20%22Point%22%7D%2C%20%22id%22%3A%20%225%22%2C%20%22properties%22%3A%20%7B%22id%22%3A%20%2220210407_080012_6%22%2C%20%22lat%22%3A%20-33.85639953613281%2C%20%22lng%22%3A%20151.22628784179688%7D%2C%20%22type%22%3A%20%22Feature%22%7D%2C%20%7B%22geometry%22%3A%20%7B%22coordinates%22%3A%20%5B151.21116638183594%2C%20-33.8605842590332%5D%2C%20%22type%22%3A%20%22Point%22%7D%2C%20%22id%22%3A%20%226%22%2C%20%22properties%22%3A%20%7B%22id%22%3A%20%2220210407_080012_7%22%2C%20%22lat%22%3A%20-33.8605842590332%2C%20%22lng%22%3A%20151.21116638183594%7D%2C%20%22type%22%3A%20%22Feature%22%7D%2C%20%7B%22geometry%22%3A%20%7B%22coordinates%22%3A%20%5B151.28353881835938%2C%20-33.80058288574219%5D%2C%20%22type%22%3A%20%22Point%22%7D%2C%20%22id%22%3A%20%227%22%2C%20%22properties%22%3A%20%7B%22id%22%3A%20%2220210407_080012_8%22%2C%20%22lat%22%3A%20-33.80058288574219%2C%20%22lng%22%3A%20151.28353881835938%7D%2C%20%22type%22%3A%20%22Feature%22%7D%2C%20%7B%22geometry%22%3A%20%7B%22coordinates%22%3A%20%5B151.27102661132812%2C%20-33.832366943359375%5D%2C%20%22type%22%3A%20%22Point%22%7D%2C%20%22id%22%3A%20%228%22%2C%20%22properties%22%3A%20%7B%22id%22%3A%20%2220210407_080012_9%22%2C%20%22lat%22%3A%20-33.832366943359375%2C%20%22lng%22%3A%20151.27102661132812%7D%2C%20%22type%22%3A%20%22Feature%22%7D%2C%20%7B%22geometry%22%3A%20%7B%22coordinates%22%3A%20%5B151.23175048828125%2C%20-33.8421516418457%5D%2C%20%22type%22%3A%20%22Point%22%7D%2C%20%22id%22%3A%20%229%22%2C%20%22properties%22%3A%20%7B%22id%22%3A%20%2220210407_080012_10%22%2C%20%22lat%22%3A%20-33.8421516418457%2C%20%22lng%22%3A%20151.23175048828125%7D%2C%20%22type%22%3A%20%22Feature%22%7D%2C%20%7B%22geometry%22%3A%20%7B%22coordinates%22%3A%20%5B151.22084045410156%2C%20-33.851016998291016%5D%2C%20%22type%22%3A%20%22Point%22%7D%2C%20%22id%22%3A%20%2210%22%2C%20%22properties%22%3A%20%7B%22id%22%3A%20%2220210407_080012_11%22%2C%20%22lat%22%3A%20-33.851016998291016%2C%20%22lng%22%3A%20151.22084045410156%7D%2C%20%22type%22%3A%20%22Feature%22%7D%2C%20%7B%22geometry%22%3A%20%7B%22coordinates%22%3A%20%5B151.07879638671875%2C%20-33.82184982299805%5D%2C%20%22type%22%3A%20%22Point%22%7D%2C%20%22id%22%3A%20%2211%22%2C%20%22properties%22%3A%20%7B%22id%22%3A%20%2220210407_080012_12%22%2C%20%22lat%22%3A%20-33.82184982299805%2C%20%22lng%22%3A%20151.07879638671875%7D%2C%20%22type%22%3A%20%22Feature%22%7D%2C%20%7B%22geometry%22%3A%20%7B%22coordinates%22%3A%20%5B151.1866455078125%2C%20-33.84578323364258%5D%2C%20%22type%22%3A%20%22Point%22%7D%2C%20%22id%22%3A%20%2212%22%2C%20%22properties%22%3A%20%7B%22id%22%3A%20%2220210407_080012_13%22%2C%20%22lat%22%3A%20-33.84578323364258%2C%20%22lng%22%3A%20151.1866455078125%7D%2C%20%22type%22%3A%20%22Feature%22%7D%2C%20%7B%22geometry%22%3A%20%7B%22coordinates%22%3A%20%5B151.20677185058594%2C%20-33.84894943237305%5D%2C%20%22type%22%3A%20%22Point%22%7D%2C%20%22id%22%3A%20%2213%22%2C%20%22properties%22%3A%20%7B%22id%22%3A%20%2220210407_080012_14%22%2C%20%22lat%22%3A%20-33.84894943237305%2C%20%22lng%22%3A%20151.20677185058594%7D%2C%20%22type%22%3A%20%22Feature%22%7D%2C%20%7B%22geometry%22%3A%20%7B%22coordinates%22%3A%20%5B151.19358825683594%2C%20-33.85322952270508%5D%2C%20%22type%22%3A%20%22Point%22%7D%2C%20%22id%22%3A%20%2214%22%2C%20%22properties%22%3A%20%7B%22id%22%3A%20%2220210407_080012_15%22%2C%20%22lat%22%3A%20-33.85322952270508%2C%20%22lng%22%3A%20151.19358825683594%7D%2C%20%22type%22%3A%20%22Feature%22%7D%2C%20%7B%22geometry%22%3A%20%7B%22coordinates%22%3A%20%5B151.14173889160156%2C%20-33.84531784057617%5D%2C%20%22type%22%3A%20%22Point%22%7D%2C%20%22id%22%3A%20%2215%22%2C%20%22properties%22%3A%20%7B%22id%22%3A%20%2220210407_080012_16%22%2C%20%22lat%22%3A%20-33.84531784057617%2C%20%22lng%22%3A%20151.14173889160156%7D%2C%20%22type%22%3A%20%22Feature%22%7D%2C%20%7B%22geometry%22%3A%20%7B%22coordinates%22%3A%20%5B151.17127990722656%2C%20-33.8448486328125%5D%2C%20%22type%22%3A%20%22Point%22%7D%2C%20%22id%22%3A%20%2216%22%2C%20%22properties%22%3A%20%7B%22id%22%3A%20%2220210407_080012_17%22%2C%20%22lat%22%3A%20-33.8448486328125%2C%20%22lng%22%3A%20151.17127990722656%7D%2C%20%22type%22%3A%20%22Feature%22%7D%2C%20%7B%22geometry%22%3A%20%7B%22coordinates%22%3A%20%5B151.0264129638672%2C%20-33.81684875488281%5D%2C%20%22type%22%3A%20%22Point%22%7D%2C%20%22id%22%3A%20%2217%22%2C%20%22properties%22%3A%20%7B%22id%22%3A%20%2220210407_080012_18%22%2C%20%22lat%22%3A%20-33.81684875488281%2C%20%22lng%22%3A%20151.0264129638672%7D%2C%20%22type%22%3A%20%22Feature%22%7D%2C%20%7B%22geometry%22%3A%20%7B%22coordinates%22%3A%20%5B151.2322235107422%2C%20-33.84375%5D%2C%20%22type%22%3A%20%22Point%22%7D%2C%20%22id%22%3A%20%2218%22%2C%20%22properties%22%3A%20%7B%22id%22%3A%20%2220210407_080012_19%22%2C%20%22lat%22%3A%20-33.84375%2C%20%22lng%22%3A%20151.2322235107422%7D%2C%20%22type%22%3A%20%22Feature%22%7D%5D%2C%20%22type%22%3A%20%22FeatureCollection%22%7D%29%3B%0A%0A%20%20%20%20%20%20%20%20%0A%3C/script%3E onload=\"this.contentDocument.open();this.contentDocument.write(    decodeURIComponent(this.getAttribute('data-html')));this.contentDocument.close();\" allowfullscreen webkitallowfullscreen mozallowfullscreen></iframe></div></div>"
      ],
      "text/plain": [
       "<folium.folium.Map at 0x27684daf0c8>"
      ]
     },
     "metadata": {},
     "output_type": "display_data"
    }
   ],
   "source": [
    "for i in range(1):\n",
    "    result = requests.get(url='https://api.transport.nsw.gov.au/v1/gtfs/vehiclepos/ferries/sydneyferries', headers=headers)\n",
    "    feed = gtfs_realtime_pb2.FeedMessage()\n",
    "    feed.ParseFromString(result.content)\n",
    "    data = pandas.DataFrame()\n",
    "    for i in feed.entity :\n",
    "        row = pandas.Series([i.id,float(i.vehicle.position.latitude),float(i.vehicle.position.longitude)])\n",
    "        row_df = pandas.DataFrame([row])\n",
    "        data = pandas.concat([data,row_df],ignore_index=True)\n",
    "    data.columns = ['id','lat','lng']\n",
    "    geometry = [Point(xy) for xy in zip(data['lng'],data['lat'])]\n",
    "    geo_data = geopandas.GeoDataFrame(data,crs=crs,geometry=geometry)\n",
    "    geo_json = geo_data.to_json()\n",
    "    m = folium.Map(location=[-33.854504, 151.218034],tiles='Stamen Toner', zoom_start=14)\n",
    "    folium_plot = m.add_child(folium.features.GeoJson(geo_json))\n",
    "    display.clear_output(wait=True)\n",
    "    display.display(folium_plot)\n",
    "    time.sleep(5)"
   ]
  },
  {
   "cell_type": "markdown",
   "metadata": {
    "slideshow": {
     "slide_type": "slide"
    }
   },
   "source": [
    "## Extras\n",
    "\n",
    "If you are feeling comfortable with the python and using APIs then as an extra task try and explore other end points available in the same API which give information on locations of Buses, Trains etc. https://opendata.transport.nsw.gov.au/dataset/public-transport-realtime-vehicle-positions.\n",
    "\n",
    "Notice that these sources also have bearing (direction) and speed information for each vehicle as well which may be used to visualise their movement across the map as well.\n",
    "\n",
    "All the best!"
   ]
  },
  {
   "cell_type": "code",
   "execution_count": null,
   "metadata": {},
   "outputs": [],
   "source": []
  }
 ],
 "metadata": {
  "celltoolbar": "Slideshow",
  "kernelspec": {
   "display_name": "Python 3",
   "language": "python",
   "name": "python3"
  },
  "language_info": {
   "codemirror_mode": {
    "name": "ipython",
    "version": 3
   },
   "file_extension": ".py",
   "mimetype": "text/x-python",
   "name": "python",
   "nbconvert_exporter": "python",
   "pygments_lexer": "ipython3",
   "version": "3.7.4"
  }
 },
 "nbformat": 4,
 "nbformat_minor": 4
}
